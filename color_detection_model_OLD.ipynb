{
  "cells": [
    {
      "cell_type": "code",
      "execution_count": 1,
      "metadata": {
        "id": "58-r3Qeha4al"
      },
      "outputs": [],
      "source": [
        "import os\n",
        "os.environ['CUDA_LAUNCH_BLOCKING'] = \"1\""
      ]
    },
    {
      "cell_type": "code",
      "execution_count": 2,
      "metadata": {
        "colab": {
          "base_uri": "https://localhost:8080/"
        },
        "id": "X9VeV8WNa41V",
        "outputId": "57c478bd-37f8-4662-fa53-5661bb44f558"
      },
      "outputs": [
        {
          "output_type": "stream",
          "name": "stdout",
          "text": [
            "Mounted at /content/drive\n"
          ]
        }
      ],
      "source": [
        "from google.colab import drive\n",
        "drive.mount(\"/content/drive\", force_remount=True)"
      ]
    },
    {
      "cell_type": "code",
      "execution_count": 3,
      "metadata": {
        "colab": {
          "base_uri": "https://localhost:8080/"
        },
        "id": "8wXbGZy6DClD",
        "outputId": "fad4ef29-d5d7-462a-ab92-e21610f9cdee"
      },
      "outputs": [
        {
          "output_type": "stream",
          "name": "stdout",
          "text": [
            "Requirement already satisfied: torchvision in /usr/local/lib/python3.7/dist-packages (0.11.1+cu111)\n",
            "Requirement already satisfied: numpy in /usr/local/lib/python3.7/dist-packages (from torchvision) (1.21.5)\n",
            "Requirement already satisfied: torch==1.10.0 in /usr/local/lib/python3.7/dist-packages (from torchvision) (1.10.0+cu111)\n",
            "Requirement already satisfied: pillow!=8.3.0,>=5.3.0 in /usr/local/lib/python3.7/dist-packages (from torchvision) (7.1.2)\n",
            "Requirement already satisfied: typing-extensions in /usr/local/lib/python3.7/dist-packages (from torch==1.10.0->torchvision) (3.10.0.2)\n"
          ]
        }
      ],
      "source": [
        "!pip install torchvision"
      ]
    },
    {
      "cell_type": "code",
      "execution_count": 4,
      "metadata": {
        "colab": {
          "base_uri": "https://localhost:8080/"
        },
        "id": "aEwrffsHqEoJ",
        "outputId": "06d27441-5700-4e69-f04e-7125dcebc6c9"
      },
      "outputs": [
        {
          "output_type": "stream",
          "name": "stdout",
          "text": [
            "Requirement already satisfied: torch-lr-finder in /usr/local/lib/python3.7/dist-packages (0.2.1)\n",
            "Requirement already satisfied: matplotlib in /usr/local/lib/python3.7/dist-packages (from torch-lr-finder) (3.2.2)\n",
            "Requirement already satisfied: packaging in /usr/local/lib/python3.7/dist-packages (from torch-lr-finder) (21.3)\n",
            "Requirement already satisfied: tqdm in /usr/local/lib/python3.7/dist-packages (from torch-lr-finder) (4.63.0)\n",
            "Requirement already satisfied: numpy in /usr/local/lib/python3.7/dist-packages (from torch-lr-finder) (1.21.5)\n",
            "Requirement already satisfied: torch>=0.4.1 in /usr/local/lib/python3.7/dist-packages (from torch-lr-finder) (1.10.0+cu111)\n",
            "Requirement already satisfied: typing-extensions in /usr/local/lib/python3.7/dist-packages (from torch>=0.4.1->torch-lr-finder) (3.10.0.2)\n",
            "Requirement already satisfied: python-dateutil>=2.1 in /usr/local/lib/python3.7/dist-packages (from matplotlib->torch-lr-finder) (2.8.2)\n",
            "Requirement already satisfied: pyparsing!=2.0.4,!=2.1.2,!=2.1.6,>=2.0.1 in /usr/local/lib/python3.7/dist-packages (from matplotlib->torch-lr-finder) (3.0.7)\n",
            "Requirement already satisfied: kiwisolver>=1.0.1 in /usr/local/lib/python3.7/dist-packages (from matplotlib->torch-lr-finder) (1.3.2)\n",
            "Requirement already satisfied: cycler>=0.10 in /usr/local/lib/python3.7/dist-packages (from matplotlib->torch-lr-finder) (0.11.0)\n",
            "Requirement already satisfied: six>=1.5 in /usr/local/lib/python3.7/dist-packages (from python-dateutil>=2.1->matplotlib->torch-lr-finder) (1.15.0)\n"
          ]
        }
      ],
      "source": [
        "!pip install torch-lr-finder"
      ]
    },
    {
      "cell_type": "code",
      "execution_count": 4,
      "metadata": {
        "id": "yT1Hg3qfFPXT"
      },
      "outputs": [],
      "source": [
        ""
      ]
    },
    {
      "cell_type": "code",
      "execution_count": 5,
      "metadata": {
        "colab": {
          "base_uri": "https://localhost:8080/"
        },
        "id": "dJnoqvM5PrkO",
        "outputId": "5d103cda-6ea9-475b-8c90-d278283f543e"
      },
      "outputs": [
        {
          "output_type": "stream",
          "name": "stdout",
          "text": [
            "Requirement already satisfied: opendatasets in /usr/local/lib/python3.7/dist-packages (0.1.20)\n",
            "Requirement already satisfied: click in /usr/local/lib/python3.7/dist-packages (from opendatasets) (7.1.2)\n",
            "Requirement already satisfied: kaggle in /usr/local/lib/python3.7/dist-packages (from opendatasets) (1.5.12)\n",
            "Requirement already satisfied: tqdm in /usr/local/lib/python3.7/dist-packages (from opendatasets) (4.63.0)\n",
            "Requirement already satisfied: requests in /usr/local/lib/python3.7/dist-packages (from kaggle->opendatasets) (2.23.0)\n",
            "Requirement already satisfied: python-dateutil in /usr/local/lib/python3.7/dist-packages (from kaggle->opendatasets) (2.8.2)\n",
            "Requirement already satisfied: python-slugify in /usr/local/lib/python3.7/dist-packages (from kaggle->opendatasets) (6.1.1)\n",
            "Requirement already satisfied: six>=1.10 in /usr/local/lib/python3.7/dist-packages (from kaggle->opendatasets) (1.15.0)\n",
            "Requirement already satisfied: certifi in /usr/local/lib/python3.7/dist-packages (from kaggle->opendatasets) (2021.10.8)\n",
            "Requirement already satisfied: urllib3 in /usr/local/lib/python3.7/dist-packages (from kaggle->opendatasets) (1.24.3)\n",
            "Requirement already satisfied: text-unidecode>=1.3 in /usr/local/lib/python3.7/dist-packages (from python-slugify->kaggle->opendatasets) (1.3)\n",
            "Requirement already satisfied: chardet<4,>=3.0.2 in /usr/local/lib/python3.7/dist-packages (from requests->kaggle->opendatasets) (3.0.4)\n",
            "Requirement already satisfied: idna<3,>=2.5 in /usr/local/lib/python3.7/dist-packages (from requests->kaggle->opendatasets) (2.10)\n"
          ]
        }
      ],
      "source": [
        "!pip install opendatasets"
      ]
    },
    {
      "cell_type": "code",
      "execution_count": 6,
      "metadata": {
        "colab": {
          "base_uri": "https://localhost:8080/"
        },
        "id": "4vfSnqs7NCH2",
        "outputId": "2e5bad3a-929c-4355-d42c-29b78248a156"
      },
      "outputs": [
        {
          "output_type": "stream",
          "name": "stdout",
          "text": [
            "Requirement already satisfied: kaggle in /usr/local/lib/python3.7/dist-packages (1.5.12)\n",
            "Requirement already satisfied: tqdm in /usr/local/lib/python3.7/dist-packages (from kaggle) (4.63.0)\n",
            "Requirement already satisfied: six>=1.10 in /usr/local/lib/python3.7/dist-packages (from kaggle) (1.15.0)\n",
            "Requirement already satisfied: python-dateutil in /usr/local/lib/python3.7/dist-packages (from kaggle) (2.8.2)\n",
            "Requirement already satisfied: requests in /usr/local/lib/python3.7/dist-packages (from kaggle) (2.23.0)\n",
            "Requirement already satisfied: python-slugify in /usr/local/lib/python3.7/dist-packages (from kaggle) (6.1.1)\n",
            "Requirement already satisfied: urllib3 in /usr/local/lib/python3.7/dist-packages (from kaggle) (1.24.3)\n",
            "Requirement already satisfied: certifi in /usr/local/lib/python3.7/dist-packages (from kaggle) (2021.10.8)\n",
            "Requirement already satisfied: text-unidecode>=1.3 in /usr/local/lib/python3.7/dist-packages (from python-slugify->kaggle) (1.3)\n",
            "Requirement already satisfied: idna<3,>=2.5 in /usr/local/lib/python3.7/dist-packages (from requests->kaggle) (2.10)\n",
            "Requirement already satisfied: chardet<4,>=3.0.2 in /usr/local/lib/python3.7/dist-packages (from requests->kaggle) (3.0.4)\n",
            "cp: cannot stat 'kaggle.json': No such file or directory\n",
            "chmod: cannot access '/root/.kaggle/kaggle.json': No such file or directory\n"
          ]
        }
      ],
      "source": [
        "!pip install kaggle\n",
        "!mkdir -p ~/.kaggle\n",
        "!cp kaggle.json ~/.kaggle/\n",
        "!chmod 600 ~/.kaggle/kaggle.json \n",
        "!ls ~/.kaggle"
      ]
    },
    {
      "cell_type": "code",
      "execution_count": 11,
      "metadata": {
        "colab": {
          "base_uri": "https://localhost:8080/"
        },
        "id": "Y7c40dRXNISc",
        "outputId": "dfb69cc9-f066-4db5-b070-8fc864df1707"
      },
      "outputs": [
        {
          "output_type": "stream",
          "name": "stdout",
          "text": [
            "Populating the interactive namespace from numpy and matplotlib\n"
          ]
        },
        {
          "output_type": "stream",
          "name": "stderr",
          "text": [
            "/usr/local/lib/python3.7/dist-packages/IPython/core/magics/pylab.py:161: UserWarning: pylab import has clobbered these variables: ['all', 'random']\n",
            "`%matplotlib` prevents importing * from pylab and numpy\n",
            "  \"\\n`%matplotlib` prevents importing * from pylab and numpy\"\n"
          ]
        }
      ],
      "source": [
        "from torchvision import models\n",
        "import torch\n",
        "import os\n",
        "import torch\n",
        "import torchvision\n",
        "import tarfile\n",
        "import torch.nn as nn\n",
        "import numpy as np\n",
        "import torch.nn.functional as F\n",
        "from torchvision.datasets.utils import download_url\n",
        "from torchvision.datasets import ImageFolder\n",
        "from torch.utils.data import DataLoader\n",
        "import torchvision.transforms as tt\n",
        "from torch.utils.data import random_split\n",
        "from torchvision.utils import make_grid\n",
        "\n",
        "import matplotlib\n",
        "import matplotlib.pyplot as plt\n",
        "%matplotlib inline\n",
        "matplotlib.rcParams['figure.facecolor'] = '#ffffff'\n",
        "\n",
        "import pathlib\n",
        "import matplotlib.pyplot as plt\n",
        "import torch.optim as optim\n",
        "import glob\n",
        "import random\n",
        "from PIL import Image\n",
        "\n",
        "%pylab inline\n",
        "import matplotlib.pyplot as plt\n",
        "import matplotlib.image as mpimg\n",
        "import cv2\n",
        "from google.colab.patches import cv2_imshow\n",
        "import opendatasets as od\n",
        "import random\n",
        "from tqdm import tqdm"
      ]
    },
    {
      "cell_type": "code",
      "execution_count": 12,
      "metadata": {
        "id": "O_LX1IoTJEK7"
      },
      "outputs": [],
      "source": [
        "# od.download('https://www.kaggle.com/gndctrl2mjrtm/auvsi-suas-dataset')"
      ]
    },
    {
      "cell_type": "code",
      "execution_count": 13,
      "metadata": {
        "id": "wqXMl7ZAqGXl"
      },
      "outputs": [],
      "source": [
        "# /content/auvsi-suas-dataset/generated_data/generated_data/letters/A"
      ]
    },
    {
      "cell_type": "code",
      "execution_count": 14,
      "metadata": {
        "id": "H4q2Tf-QFM0y",
        "colab": {
          "base_uri": "https://localhost:8080/"
        },
        "outputId": "f02e7694-bbb7-43f5-f9ba-18a8ec8c68a7"
      },
      "outputs": [
        {
          "output_type": "stream",
          "name": "stdout",
          "text": [
            "['/content/drive/MyDrive/SyntheticData/NewDataset/DatasetOrient/0', '/content/drive/MyDrive/SyntheticData/NewDataset/DatasetOrient/1', '/content/drive/MyDrive/SyntheticData/NewDataset/DatasetOrient/2', '/content/drive/MyDrive/SyntheticData/NewDataset/DatasetOrient/3', '/content/drive/MyDrive/SyntheticData/NewDataset/DatasetOrient/4', '/content/drive/MyDrive/SyntheticData/NewDataset/DatasetOrient/5', '/content/drive/MyDrive/SyntheticData/NewDataset/DatasetOrient/6', '/content/drive/MyDrive/SyntheticData/NewDataset/DatasetOrient/7', '/content/drive/MyDrive/SyntheticData/NewDataset/DatasetOrient/8', '/content/drive/MyDrive/SyntheticData/NewDataset/DatasetOrient/9', '/content/drive/MyDrive/SyntheticData/NewDataset/DatasetOrient/A', '/content/drive/MyDrive/SyntheticData/NewDataset/DatasetOrient/B', '/content/drive/MyDrive/SyntheticData/NewDataset/DatasetOrient/C', '/content/drive/MyDrive/SyntheticData/NewDataset/DatasetOrient/D', '/content/drive/MyDrive/SyntheticData/NewDataset/DatasetOrient/E', '/content/drive/MyDrive/SyntheticData/NewDataset/DatasetOrient/F', '/content/drive/MyDrive/SyntheticData/NewDataset/DatasetOrient/G', '/content/drive/MyDrive/SyntheticData/NewDataset/DatasetOrient/H', '/content/drive/MyDrive/SyntheticData/NewDataset/DatasetOrient/I', '/content/drive/MyDrive/SyntheticData/NewDataset/DatasetOrient/J', '/content/drive/MyDrive/SyntheticData/NewDataset/DatasetOrient/K', '/content/drive/MyDrive/SyntheticData/NewDataset/DatasetOrient/L', '/content/drive/MyDrive/SyntheticData/NewDataset/DatasetOrient/M', '/content/drive/MyDrive/SyntheticData/NewDataset/DatasetOrient/N', '/content/drive/MyDrive/SyntheticData/NewDataset/DatasetOrient/O', '/content/drive/MyDrive/SyntheticData/NewDataset/DatasetOrient/P', '/content/drive/MyDrive/SyntheticData/NewDataset/DatasetOrient/Q', '/content/drive/MyDrive/SyntheticData/NewDataset/DatasetOrient/R', '/content/drive/MyDrive/SyntheticData/NewDataset/DatasetOrient/S', '/content/drive/MyDrive/SyntheticData/NewDataset/DatasetOrient/T', '/content/drive/MyDrive/SyntheticData/NewDataset/DatasetOrient/U', '/content/drive/MyDrive/SyntheticData/NewDataset/DatasetOrient/V', '/content/drive/MyDrive/SyntheticData/NewDataset/DatasetOrient/W', '/content/drive/MyDrive/SyntheticData/NewDataset/DatasetOrient/X', '/content/drive/MyDrive/SyntheticData/NewDataset/DatasetOrient/Y', '/content/drive/MyDrive/SyntheticData/NewDataset/DatasetOrient/Z']\n"
          ]
        },
        {
          "output_type": "stream",
          "name": "stderr",
          "text": [
            "100%|██████████| 36/36 [00:00<00:00, 169.67it/s]"
          ]
        },
        {
          "output_type": "stream",
          "name": "stdout",
          "text": [
            "['/content/drive/MyDrive/SyntheticData/NewDataset/DatasetOrient/8/8_octagon_black_blue_0.png', '/content/drive/MyDrive/SyntheticData/NewDataset/DatasetOrient/P/P_semicircle_black_orange_3.png', '/content/drive/MyDrive/SyntheticData/NewDataset/DatasetOrient/5/5_semicircle_black_blue_5.png', '/content/drive/MyDrive/SyntheticData/NewDataset/DatasetOrient/J/J_quartercircle_black_blue_1.png', '/content/drive/MyDrive/SyntheticData/NewDataset/DatasetOrient/K/K_triangle_black_orange_5.png']\n",
            "4492\n",
            "561\n",
            "563\n"
          ]
        },
        {
          "output_type": "stream",
          "name": "stderr",
          "text": [
            "\n"
          ]
        }
      ],
      "source": [
        "alpha_numeric = glob.glob(\"/content/drive/MyDrive/SyntheticData/NewDataset/DatasetOrient/*\")\n",
        "print(alpha_numeric)\n",
        "\n",
        "all = []\n",
        "for filename in tqdm(alpha_numeric):\n",
        "  # glob.glob(\"/content/drive/MyDrive/SyntheticData/NewDataset/DatasetOrient/*\")\n",
        "  li = glob.glob(filename+\"/*\")\n",
        "  # print(len(li))\n",
        "  all.extend(li)\n",
        "# all = list(set(all))\n",
        "random.Random(4).shuffle(all)\n",
        "print(all[:5])\n",
        "# all = all[:1500]\n",
        "len_all = len(all)\n",
        "train_list = all[:int(len_all*0.8)]\n",
        "valid_list = all[int(len_all*0.8):int(len_all*0.8)+int(len_all*0.1)]\n",
        "test_list = all[int(len_all*0.8)+int(len_all*0.1):]\n",
        "\n",
        "print(len(train_list))\n",
        "print(len(valid_list))\n",
        "print(len(test_list))"
      ]
    },
    {
      "cell_type": "code",
      "execution_count": 15,
      "metadata": {
        "id": "xGNq_uprofQc"
      },
      "outputs": [],
      "source": [
        "# file_train_list = open(\"/content/drive/MyDrive/SyntheticData/train_list.txt\", \"r\")\n",
        "# train_list = file_train_list.readlines()\n",
        "# for i in range(len(train_list)):\n",
        "#   train_list[i] = train_list[i].strip(\"\\n\")\n",
        "\n",
        "\n",
        "\n",
        "# file_valid_list = open(\"/content/drive/MyDrive/SyntheticData/valid_list.txt\", \"r\")\n",
        "# valid_list = file_valid_list.readlines()\n",
        "# for i in range(len(valid_list)):\n",
        "#   valid_list[i] = valid_list[i].strip(\"\\n\")\n",
        "\n",
        "\n",
        "# file_test_list = open(\"/content/drive/MyDrive/SyntheticData/test_list.txt\", \"r\")\n",
        "# test_list = file_test_list.readlines()\n",
        "# for i in range(len(test_list)):\n",
        "#   test_list[i] = test_list[i].strip(\"\\n\")"
      ]
    },
    {
      "cell_type": "code",
      "execution_count": 16,
      "metadata": {
        "id": "_3wcC2Aj0wiG"
      },
      "outputs": [],
      "source": [
        "# file_selected = open(\"/content/drive/MyDrive/SyntheticData/noisy2_FinalDataset_names.txt\", \"r\")\n",
        "# selected_list = file_selected.readlines()\n",
        "# selected_list = [x.strip(\"\\n\") for x in selected_list]\n",
        "\n",
        "# random.shuffle(selected_list)\n",
        "# train_list = selected_list[:40000]\n",
        "# valid_list = selected_list[40000:45000]\n",
        "# test_list = selected_list[45000:]"
      ]
    },
    {
      "cell_type": "code",
      "execution_count": 17,
      "metadata": {
        "colab": {
          "base_uri": "https://localhost:8080/"
        },
        "id": "wxD32TIqrpfz",
        "outputId": "12513a7e-33db-4d97-9c05-f7bc626c86ba"
      },
      "outputs": [
        {
          "output_type": "stream",
          "name": "stdout",
          "text": [
            "['/content/drive/MyDrive/SyntheticData/NewDataset/DatasetOrient/8/8_octagon_black_blue_0.png', '/content/drive/MyDrive/SyntheticData/NewDataset/DatasetOrient/P/P_semicircle_black_orange_3.png', '/content/drive/MyDrive/SyntheticData/NewDataset/DatasetOrient/5/5_semicircle_black_blue_5.png', '/content/drive/MyDrive/SyntheticData/NewDataset/DatasetOrient/J/J_quartercircle_black_blue_1.png', '/content/drive/MyDrive/SyntheticData/NewDataset/DatasetOrient/K/K_triangle_black_orange_5.png', '/content/drive/MyDrive/SyntheticData/NewDataset/DatasetOrient/V/V_trapezoid_black_orange_4.png', '/content/drive/MyDrive/SyntheticData/NewDataset/DatasetOrient/I/I_semicircle_black_orange_2.png', '/content/drive/MyDrive/SyntheticData/NewDataset/DatasetOrient/V/V_square_black_orange_2.png', '/content/drive/MyDrive/SyntheticData/NewDataset/DatasetOrient/T/T_heptagon_black_orange_4.png', '/content/drive/MyDrive/SyntheticData/NewDataset/DatasetOrient/L/L_semicircle_black_blue_5.png']\n",
            "4492\n",
            "['/content/drive/MyDrive/SyntheticData/NewDataset/DatasetOrient/0/0_octagon_black_orange_5.png', '/content/drive/MyDrive/SyntheticData/NewDataset/DatasetOrient/X/X_octagon_black_blue_5.png', '/content/drive/MyDrive/SyntheticData/NewDataset/DatasetOrient/4/4_triangle_black_orange_0.png', '/content/drive/MyDrive/SyntheticData/NewDataset/DatasetOrient/O/O_heptagon_black_orange_3.png', '/content/drive/MyDrive/SyntheticData/NewDataset/DatasetOrient/Q/Q_rectangle_black_blue_0.png', '/content/drive/MyDrive/SyntheticData/NewDataset/DatasetOrient/4/4_hexagon_black_blue_0.png', '/content/drive/MyDrive/SyntheticData/NewDataset/DatasetOrient/1/1_semicircle_black_blue_1.png', '/content/drive/MyDrive/SyntheticData/NewDataset/DatasetOrient/V/V_pentagon_black_orange_3.png', '/content/drive/MyDrive/SyntheticData/NewDataset/DatasetOrient/W/W_octagon_black_orange_5.png', '/content/drive/MyDrive/SyntheticData/NewDataset/DatasetOrient/S/S_pentagon_black_orange_0.png']\n",
            "561\n",
            "['/content/drive/MyDrive/SyntheticData/NewDataset/DatasetOrient/2/2_circle_black_orange_3.png', '/content/drive/MyDrive/SyntheticData/NewDataset/DatasetOrient/D/D_cross_black_blue_3.png', '/content/drive/MyDrive/SyntheticData/NewDataset/DatasetOrient/V/V_pentagon_black_orange_0.png', '/content/drive/MyDrive/SyntheticData/NewDataset/DatasetOrient/S/S_semicircle_black_orange_2.png', '/content/drive/MyDrive/SyntheticData/NewDataset/DatasetOrient/R/R_hexagon_black_blue_2.png', '/content/drive/MyDrive/SyntheticData/NewDataset/DatasetOrient/Q/Q_heptagon_black_blue_0.png', '/content/drive/MyDrive/SyntheticData/NewDataset/DatasetOrient/2/2_hexagon_black_orange_2.png', '/content/drive/MyDrive/SyntheticData/NewDataset/DatasetOrient/9/9_hexagon_black_orange_5.png', '/content/drive/MyDrive/SyntheticData/NewDataset/DatasetOrient/4/4_hexagon_black_orange_3.png', '/content/drive/MyDrive/SyntheticData/NewDataset/DatasetOrient/I/I_rectangle_black_blue_0.png']\n",
            "563\n"
          ]
        }
      ],
      "source": [
        "print(train_list[:10])\n",
        "print(len(train_list))\n",
        "print(valid_list[:10])\n",
        "print(len(valid_list))\n",
        "print(test_list[:10])\n",
        "print(len(test_list))"
      ]
    },
    {
      "cell_type": "code",
      "execution_count": 18,
      "metadata": {
        "id": "kWz5TTxUOQwv"
      },
      "outputs": [],
      "source": [
        "# Data transforms (normalization & data augmentation)\n",
        "\n",
        "stats = ((0.485, 0.456, 0.406), (0.229, 0.224, 0.225))\n",
        "img_size = 224\n",
        "train_tfms = tt.Compose([tt.Resize((img_size,img_size)),\n",
        "                         tt.RandomAffine(degrees = 30, translate = (0.3, 0.3)),\n",
        "                         tt.RandomCrop(img_size, padding=4, padding_mode='reflect'),                       \n",
        "                         tt.ToTensor(), \n",
        "                         tt.Normalize(*stats,inplace=True)])\n",
        "valid_tfms = tt.Compose([tt.Resize((img_size,img_size)),\n",
        "                         tt.RandomAffine(degrees = 30, translate = (0.3, 0.3)),\n",
        "                         tt.RandomCrop(img_size, padding=4, padding_mode='reflect'),                       \n",
        "                         tt.ToTensor(), \n",
        "                         tt.Normalize(*stats,inplace=True)])\n",
        "#data_dir = pathlib.Path('/content/intel-image-classification')\n",
        "# PyTorch datasets\n",
        "# train_ds = ImageFolder(train_list, train_tfms)\n",
        "# valid_ds = ImageFolder(valid_list, valid_tfms)"
      ]
    },
    {
      "cell_type": "code",
      "execution_count": 19,
      "metadata": {
        "id": "A2wMgxNKK-uy"
      },
      "outputs": [],
      "source": [
        "from google.colab.patches import cv2_imshow\n",
        "\n",
        "class dataset(torch.utils.data.Dataset):\n",
        "    def __init__(self,file_list,transform):\n",
        "        self.file_list = file_list\n",
        "        self.transform = transform\n",
        "\n",
        "    #dataset length\n",
        "    def __len__(self):\n",
        "        self.filelength = len(self.file_list)\n",
        "        return self.filelength\n",
        "\n",
        "    #load an one of images\n",
        "    def __getitem__(self,idx):\n",
        "        img_path = self.file_list[idx]\n",
        "        img = Image.open(img_path)\n",
        "        img_transformed = self.transform(img)\n",
        "        filename = img_path.split(\"/\")[-1]\n",
        "        double__present = False\n",
        "        ch = None\n",
        "        label = None\n",
        "   \n",
        "        letter_color, shape_color = filename.split(\"_\")[2:4]\n",
        "        color_value = {\"white\":0, \"black\":1, \"gray\":2, \"red\":3, \"blue\":4, \"green\":5, \n",
        "                        \"yellow\":6, \"purple\":7, \"brown\":8, \"orange\":9}\n",
        "     \n",
        "        if letter_color in color_value:\n",
        "          letter_color_value = color_value[letter_color]\n",
        "        else:\n",
        "          letter_color_value = 10 # anomaly\n",
        "        \n",
        "        if shape_color in color_value:\n",
        "          shape_color_value = color_value[shape_color]\n",
        "        else:\n",
        "          shape_color_value = 10 # anomaly\n",
        "        return img_transformed, letter_color_value, shape_color_value"
      ]
    },
    {
      "cell_type": "code",
      "execution_count": 20,
      "metadata": {
        "id": "TKKlwoeJMXdW"
      },
      "outputs": [],
      "source": [
        "train_dataset = dataset(train_list, train_tfms)\n",
        "val_dataset = dataset(valid_list, valid_tfms)\n",
        "test_dataset = dataset(test_list, valid_tfms)"
      ]
    },
    {
      "cell_type": "code",
      "execution_count": 21,
      "metadata": {
        "id": "OdLWgIbA6cAI"
      },
      "outputs": [],
      "source": [
        "# train_list[0]"
      ]
    },
    {
      "cell_type": "code",
      "execution_count": 22,
      "metadata": {
        "id": "pZ-Uf4TK51Kq"
      },
      "outputs": [],
      "source": [
        "# train_dataset[0]"
      ]
    },
    {
      "cell_type": "code",
      "execution_count": 23,
      "metadata": {
        "id": "wUT8Vpt3LDyP"
      },
      "outputs": [],
      "source": [
        "batch_size = 128\n",
        "train_dl      = torch.utils.data.DataLoader(train_dataset, batch_size=batch_size, num_workers=2)\n",
        "valid_dl      = torch.utils.data.DataLoader(val_dataset  , batch_size=batch_size, num_workers=2)\n",
        "test_dl       = torch.utils.data.DataLoader(test_dataset , batch_size=batch_size, num_workers=2)"
      ]
    },
    {
      "cell_type": "code",
      "execution_count": 24,
      "metadata": {
        "id": "lXskRrsEPkaq"
      },
      "outputs": [],
      "source": [
        "def get_default_device():\n",
        "    \"\"\"Pick GPU if available, else CPU\"\"\"\n",
        "    if torch.cuda.is_available():\n",
        "        return torch.device('cuda')\n",
        "    else:\n",
        "        return torch.device('cpu')\n",
        "    \n",
        "def to_device(data, device):\n",
        "    \"\"\"Move tensor(s) to chosen device\"\"\"\n",
        "    if isinstance(data, (list,tuple)):\n",
        "        return [to_device(x, device) for x in data]\n",
        "    return data.to(device, non_blocking=True)\n",
        "\n",
        "class DeviceDataLoader():\n",
        "    \"\"\"Wrap a dataloader to move data to a device\"\"\"\n",
        "    def __init__(self, dl, device):\n",
        "        self.dl = dl\n",
        "        self.device = device\n",
        "        \n",
        "    def __iter__(self):\n",
        "        \"\"\"Yield a batch of data after moving it to device\"\"\"\n",
        "        for b in self.dl: \n",
        "            yield to_device(b, self.device)\n",
        "\n",
        "    def __len__(self):\n",
        "        \"\"\"Number of batches\"\"\"\n",
        "        return len(self.dl)\n",
        "       "
      ]
    },
    {
      "cell_type": "code",
      "execution_count": 25,
      "metadata": {
        "id": "Ml3bIUaKPkYW"
      },
      "outputs": [],
      "source": [
        "import torch.nn as nn\n",
        "import torch.nn.functional as F\n",
        "\n",
        "def accuracy(outputs, labels):\n",
        "    _, preds = torch.max(outputs, dim=1)\n",
        "    return torch.tensor(torch.sum(preds == labels).item() / len(preds))\n",
        "\n",
        "\n",
        "class ImageClassificationBase(nn.Module):\n",
        "    def training_step(self, batch):\n",
        "        images, labels_1, labels_2 = batch\n",
        "        images, labels_1, labels_2 = images.to(device), labels_1.to(device), labels_2.to(device)\n",
        "        out1, out2 = self(images)                  # Generate predictions\n",
        "        loss1 = F.cross_entropy(out1, labels_1)  # Calculate loss\n",
        "        loss2 = F.cross_entropy(out2, labels_2)  # Calculate loss\n",
        "        loss = 0.5*loss1 + 0.5*loss2\n",
        "        return loss\n",
        "\n",
        "    def validation_step(self, batch):\n",
        "        images, labels_1, labels_2 = batch\n",
        "        images, labels_1, labels_2 = images.to(device), labels_1.to(device), labels_2.to(device)\n",
        "        out1, out2 = self(images)                    # Generate predictions\n",
        "        loss1 = F.cross_entropy(out1, labels_1)   # Calculate loss\n",
        "        loss2 = F.cross_entropy(out2, labels_2)   # Calculate loss\n",
        "        loss = 0.5*loss1 + 0.5*loss2\n",
        "        acc1 = accuracy(out1, labels_1)           # Calculate accuracy\n",
        "        acc2 = accuracy(out2, labels_2)           # Calculate accuracy\n",
        "        acc = 0.5*acc1 + 0.5*acc2\n",
        "        return {'val_loss': loss.detach(), 'val_acc': acc}\n",
        "\n",
        "    def validation_epoch_end(self, outputs):\n",
        "        batch_losses = [x['val_loss'] for x in outputs]\n",
        "        epoch_loss = torch.stack(batch_losses).mean()   # Combine losses\n",
        "        batch_accs = [x['val_acc'] for x in outputs]\n",
        "        epoch_acc = torch.stack(batch_accs).mean()      # Combine accuracies\n",
        "        return {'val_loss': epoch_loss.item(), 'val_acc': epoch_acc.item()}\n",
        "\n",
        "    def epoch_end(self, epoch, result):\n",
        "        print(\"Epoch [{}],{} train_loss: {:.4f}, val_loss: {:.4f}, val_acc: {:.4f}\".format(\n",
        "            epoch, \"last_lr: {:.5f},\".format(result['lrs'][-1]) if 'lrs' in result else '', \n",
        "            result['train_loss'], result['val_loss'], result['val_acc']))\n",
        "            \n",
        " # --------------------------------------------------------------------------#\n",
        " \n",
        "from torchvision import models\n",
        "\n",
        "\n",
        "import copy\n",
        "class COLOR(ImageClassificationBase):\n",
        "    def __init__(self, original_model):\n",
        "        super().__init__()\n",
        "        self.feature0 = original_model.features[0]\n",
        "        self.feature1 = original_model.features[1]\n",
        "        self.feature2 = original_model.features[2]\n",
        "        self.feature3 = original_model.features[3]\n",
        "        self.feature4 = original_model.features[4]\n",
        "        self.feature5 = original_model.features[5]\n",
        "        self.feature6 = original_model.features[6]\n",
        "        self.feature7 = original_model.features[7]\n",
        "        self.feature8 = original_model.features[8]\n",
        "        self.fc1 = nn.Linear(576, 100)\n",
        "        self.fc2 = nn.Linear(100, 10)\n",
        "        self.classifier1 = nn.Sequential(\n",
        "            nn.Dropout(p=0.3),\n",
        "            nn.Linear(576, 100),\n",
        "            nn.ReLU(inplace=True),\n",
        "            nn.Dropout(p=0.3),\n",
        "            nn.Linear(100, 10),\n",
        "            nn.ReLU(inplace=True)\n",
        "        )\n",
        "        self.classifier2 = nn.Sequential(\n",
        "            nn.Dropout(p=0.3),\n",
        "            nn.Linear(576, 100),\n",
        "            nn.ReLU(inplace=True),\n",
        "            nn.Dropout(p=0.3),\n",
        "            nn.Linear(100, 10),\n",
        "            nn.ReLU(inplace=True)\n",
        "        )\n",
        "\n",
        "        \n",
        "    def forward(self, x):\n",
        "        # print(self.features)\n",
        "        x = self.feature0(x)\n",
        "        x = self.feature1(x)\n",
        "        x = self.feature2(x)\n",
        "        x = self.feature3(x)\n",
        "        x = self.feature4(x)\n",
        "        x4 = x.clone().detach()\n",
        "        # print(x4.shape)\n",
        "        x = self.feature5(x)\n",
        "        x = self.feature6(x)\n",
        "        x = self.feature7(x)\n",
        "        x7 = x.clone().detach()\n",
        "        # print(x7.shape)\n",
        "        global_avg_pool_4 = nn.AvgPool2d(27, stride = 1)\n",
        "        global_avg_pool_7 = nn.AvgPool2d(13, stride = 1)\n",
        "        x4 = global_avg_pool_4(x4)\n",
        "        x7 = global_avg_pool_7(x7)\n",
        "        # print(x4.shape)\n",
        "        # print(x7.shape)\n",
        "        x4 = torch.squeeze(x4)\n",
        "        x7 = torch.squeeze(x7)\n",
        "        # print(x4.shape)\n",
        "        # print(x7.shape)\n",
        "        concat_x4_x7 = torch.cat([x4, x7], axis=1)\n",
        "        out1 = self.classifier1(concat_x4_x7)\n",
        "        out2 = self.classifier2(concat_x4_x7)\n",
        "        return out1, out2"
      ]
    },
    {
      "cell_type": "code",
      "execution_count": 26,
      "metadata": {
        "id": "vnLPw8fdPkT_"
      },
      "outputs": [],
      "source": [
        "import torch\n",
        "from tqdm.notebook import tqdm\n",
        "\n",
        "@torch.no_grad()\n",
        "def evaluate(model, val_loader):\n",
        "    model.eval()\n",
        "    outputs = [model.validation_step(batch) for batch in val_loader]\n",
        "    return model.validation_epoch_end(outputs)\n",
        "\n",
        "def get_lr(optimizer):\n",
        "    for param_group in optimizer.param_groups:\n",
        "        return param_group['lr']\n",
        "\n",
        "def fit_one_cycle(epochs, max_lr, model, train_loader, val_loader,\n",
        "                  weight_decay=0, grad_clip=True, opt_func=torch.optim.SGD):\n",
        "    torch.cuda.empty_cache()\n",
        "    history = []\n",
        "\n",
        "    # Set up custom optimizer with weight decay\n",
        "    optimizer = opt_func(model.parameters(), max_lr, weight_decay=weight_decay)\n",
        "    # Set up one-cycle learning rate scheduler\n",
        "    sched = torch.optim.lr_scheduler.OneCycleLR(optimizer, max_lr, epochs=epochs,\n",
        "                                                steps_per_epoch=len(train_loader))\n",
        "\n",
        "    for epoch in range(epochs):\n",
        "        # Training Phase\n",
        "        model.train()\n",
        "        train_losses = []\n",
        "        lrs = []\n",
        "        for batch in tqdm(train_loader):\n",
        "            loss = model.training_step(batch)\n",
        "            train_losses.append(loss)\n",
        "            loss.backward()\n",
        "\n",
        "            # Gradient clipping\n",
        "            if grad_clip:\n",
        "                nn.utils.clip_grad_value_(model.parameters(), grad_clip)\n",
        "\n",
        "            optimizer.step()\n",
        "            optimizer.zero_grad()\n",
        "\n",
        "            # Record & update learning rate\n",
        "            lrs.append(get_lr(optimizer))\n",
        "            sched.step()\n",
        "\n",
        "        # Validation phase\n",
        "        result = evaluate(model, val_loader)\n",
        "        result['train_loss'] = torch.stack(train_losses).mean().item()\n",
        "        result['lrs'] = lrs\n",
        "        model.epoch_end(epoch, result)\n",
        "        history.append(result)\n",
        "    return history"
      ]
    },
    {
      "cell_type": "code",
      "execution_count": 27,
      "metadata": {
        "id": "ZMdgTakvT56L"
      },
      "outputs": [],
      "source": [
        "alexnet = models.alexnet(pretrained=True)\n",
        "mymodel = COLOR(alexnet)"
      ]
    },
    {
      "cell_type": "code",
      "execution_count": 28,
      "metadata": {
        "id": "wBX1toSdX4AK",
        "colab": {
          "base_uri": "https://localhost:8080/"
        },
        "outputId": "76ab06ec-c89f-423e-fc49-1172926eed6e"
      },
      "outputs": [
        {
          "output_type": "stream",
          "name": "stdout",
          "text": [
            "device :  cpu\n"
          ]
        },
        {
          "output_type": "execute_result",
          "data": {
            "text/plain": [
              "COLOR(\n",
              "  (feature0): Conv2d(3, 64, kernel_size=(11, 11), stride=(4, 4), padding=(2, 2))\n",
              "  (feature1): ReLU(inplace=True)\n",
              "  (feature2): MaxPool2d(kernel_size=3, stride=2, padding=0, dilation=1, ceil_mode=False)\n",
              "  (feature3): Conv2d(64, 192, kernel_size=(5, 5), stride=(1, 1), padding=(2, 2))\n",
              "  (feature4): ReLU(inplace=True)\n",
              "  (feature5): MaxPool2d(kernel_size=3, stride=2, padding=0, dilation=1, ceil_mode=False)\n",
              "  (feature6): Conv2d(192, 384, kernel_size=(3, 3), stride=(1, 1), padding=(1, 1))\n",
              "  (feature7): ReLU(inplace=True)\n",
              "  (feature8): Conv2d(384, 256, kernel_size=(3, 3), stride=(1, 1), padding=(1, 1))\n",
              "  (fc1): Linear(in_features=576, out_features=100, bias=True)\n",
              "  (fc2): Linear(in_features=100, out_features=10, bias=True)\n",
              "  (classifier1): Sequential(\n",
              "    (0): Dropout(p=0.3, inplace=False)\n",
              "    (1): Linear(in_features=576, out_features=100, bias=True)\n",
              "    (2): ReLU(inplace=True)\n",
              "    (3): Dropout(p=0.3, inplace=False)\n",
              "    (4): Linear(in_features=100, out_features=10, bias=True)\n",
              "    (5): ReLU(inplace=True)\n",
              "  )\n",
              "  (classifier2): Sequential(\n",
              "    (0): Dropout(p=0.3, inplace=False)\n",
              "    (1): Linear(in_features=576, out_features=100, bias=True)\n",
              "    (2): ReLU(inplace=True)\n",
              "    (3): Dropout(p=0.3, inplace=False)\n",
              "    (4): Linear(in_features=100, out_features=10, bias=True)\n",
              "    (5): ReLU(inplace=True)\n",
              "  )\n",
              ")"
            ]
          },
          "metadata": {},
          "execution_count": 28
        }
      ],
      "source": [
        "device = torch.device('cuda' if torch.cuda.is_available() else 'cpu')\n",
        "print(\"device : \", device)\n",
        "mymodel.to(device)"
      ]
    },
    {
      "cell_type": "code",
      "execution_count": 29,
      "metadata": {
        "id": "IZqjN9LGnLZv"
      },
      "outputs": [],
      "source": [
        "# from torch_lr_finder import LRFinder\n",
        "\n",
        "# model = mymodel\n",
        "# criterion = nn.CrossEntropyLoss()\n",
        "# # optimizer = optim.Adam(model.parameters(), lr=1e-7, weight_decay=1e-2)\n",
        "# optimizer = torch.optim.SGD(model.parameters(), 0.001, weight_decay=0)\n",
        "# lr_finder = LRFinder(model, optimizer, criterion, device=\"cuda\")\n",
        "# lr_finder.range_test(train_dl, end_lr=100, num_iter=100)\n",
        "# lr_finder.plot() # to inspect the loss-learning rate graph\n",
        "# lr_finder.reset() # to reset the model and optimizer to their initial state"
      ]
    },
    {
      "cell_type": "code",
      "execution_count": 30,
      "metadata": {
        "id": "MwrcokjgA_Oq"
      },
      "outputs": [],
      "source": [
        "# epochs = 10\n",
        "# lr = 0.1"
      ]
    },
    {
      "cell_type": "code",
      "execution_count": 31,
      "metadata": {
        "id": "XTB_QuEUSH4c"
      },
      "outputs": [],
      "source": [
        "# history1 = fit(epochs,lr,mymodel,train_dl,valid_dl)"
      ]
    },
    {
      "cell_type": "code",
      "execution_count": 32,
      "metadata": {
        "id": "hkjBQsjminAU"
      },
      "outputs": [],
      "source": [
        "# print(history1)"
      ]
    },
    {
      "cell_type": "code",
      "execution_count": 33,
      "metadata": {
        "id": "Bohh4_lDEJEb"
      },
      "outputs": [],
      "source": [
        "# li1 = []\n",
        "# li2 = []\n",
        "# li3 = []\n",
        "# for dict1 in history1:\n",
        "#     li1.append(dict1[\"val_loss\"])\n",
        "#     li2.append(dict1[\"val_acc\"])\n",
        "#     li3.append(dict1[\"train_loss\"])\n",
        "\n",
        "# fig =plt.figure(figsize=(15, 6))\n",
        "\n",
        "# plt.subplot(1, 3, 1)\n",
        "# plt.plot(range(1,epochs+1), li1)\n",
        "# plt.plot(range(1,epochs+1), li3)\n",
        "# plt.title(\"losses vs epochs\")\n",
        "# plt.legend([\"val_loss\",\"train_loss\"])\n",
        "\n",
        "\n",
        "# plt.subplot(1, 3, 2)\n",
        "# plt.plot(range(1,epochs+1), li2)\n",
        "# plt.title(\"val_acc vs epochs\")\n",
        "\n",
        "# plt.show()"
      ]
    },
    {
      "cell_type": "code",
      "execution_count": 34,
      "metadata": {
        "id": "Om_dCWA9F9f3"
      },
      "outputs": [],
      "source": [
        "epoch2 = 10\n",
        "lr = 0.01"
      ]
    },
    {
      "cell_type": "code",
      "execution_count": 35,
      "metadata": {
        "colab": {
          "base_uri": "https://localhost:8080/",
          "height": 511,
          "referenced_widgets": [
            "c2e87205a82143b2b8954238cb9c2d4c",
            "47ca79eaecf94894b2d2850f2cde271f",
            "ea16840e76d84c28833f6726ae0232f0",
            "42407915cb9b491c867d6775fc80d7bd",
            "99010dc70a7e441c96ebc0c683fa072b",
            "f83ff8433fdb445b858d500a121aaf3d",
            "9338b37e85234123bb29dce3f0622a9f",
            "69e93918bf87460188bf7efe3c9e1c44",
            "f012a438afd2432b91d7be2e101e6a84",
            "07e24676b89c44b692d45613543a44e6",
            "0c1b1828d29046b785c84bfa254f628b",
            "3c68928798a449bc978e989338e441af",
            "fad958a4f111485f8a5ae8accea816f4",
            "1edc597335094897a6a432b13f44db82",
            "91c5fe60d4a145fb90d8719701de3728",
            "8e97489f93294ad993b4a2d1491ebe50",
            "b3e433dd1fa34086896015875cf29dee",
            "165645728793455792aa90c5fffd5a5a",
            "a2a513dd29ec4656b4bbe948d7ac6416",
            "93ef745b64bf45129fc28abdf910cb82",
            "f3b9234579404872a9f7b1a4ba82be40",
            "4605e0fc0ede461e8bf688d6abb4f636",
            "809798d852244bc389d63bef52bac72c",
            "094c9a6da0ef4aff81a30676cb6b98af",
            "a709e47005cb4323ac3210347250d2fe",
            "c3add518fea5429e956c26cd7b25d82a",
            "97bee76e894f4c0b98ed4fed54391bf7",
            "88bf5893f95740ae84061eef2859791e",
            "645c1fc6380643cc969318779ea4811b",
            "d50195e87491445c83766959c0ae9a47",
            "ed9ee8efbc5e496aa5dffc87ab383d94",
            "3b850802a49e439194597b66825df776",
            "c148e3db3ad94bf38089599389340173",
            "f755ea3d21774d58b0c8a4a40430115e",
            "6353c20d554e4ba8b027dc6d40d2cd47",
            "518b49abd19b448f9ca5f2438868b5c2",
            "539651c71cbb4f2eaab414329e7b31e4",
            "95b950802bb84ce79e8b4714ebc63a79",
            "910cd92090e747b38029c0a5c211c64d",
            "1bb2b90dba574492895958843103ddaa",
            "87d8a544c7d64cd8a1aa3b0e8dffb8a3",
            "fe77fe9b82c04d7d9892e4cd7c1c8670",
            "dca58a9fa4db47939ac9f52d3b6cb3b0",
            "3e49861b80bc4698b2907d524d665c27",
            "2964d49cd621449e9dbe4673cc245c4f",
            "769573d5b9704d609389c7a112cc78b8",
            "63a4b86e03014ebfb2a543b6118999aa",
            "61b4760708654651b167f59619d58582",
            "9032721dff77464a8a4c44bfed642f3d",
            "a3d8448b3b994403be4f64964bb1701c",
            "e556fef67fb041e1accb1d76144c85d3",
            "99d09042e180420fae603b8795e9dcae",
            "89e1aef21fe547708eb9b6f76f9295e4",
            "3ccd1827d7b84e958566094d285b64cc",
            "a46834aa21d64930869f21e9758b5ac6",
            "0f5eab1cce384f9691c614c904ddbc08",
            "b787e3b76a984aa09ff9163479dd9fc1",
            "2e2127feacb345758e215551d7b021a8",
            "2bfbd01ffd834adc92b2220e82260ae5",
            "e8e8c8c86b48483a854b4e3df1c8e62f",
            "883dd57e4c6f4a25a2e8c06f07343b5e",
            "f42718b67a114c77b0dd12b1a32a62b2",
            "d1a8846e11834db283349da5718a957a",
            "366812ed1ae14985af4b3aeac5bc307b",
            "4ce84dd3f4334d9a8e22031b415e38a3",
            "d1f6049ac2db4c3dbc63b63148fc4333",
            "2dba95d1a2cb4b2f95a130e07ffd9490",
            "be3f70d9d313494191f457ac15c6159d",
            "a5dbd69715fe4fadb69a9d548910a049",
            "0b88599c3bc54e3ba6ce0f8975b2fea2",
            "f54647a133094eda833808f459512259",
            "efd9515bc9804a26b2a582cdf881adae",
            "1a93da7841f148e78a4db30cc9d2cfd4",
            "1a5403ed3e834e82b442492a8d1e7d3a",
            "5b75023d6cb04a0587c64e9dd4519e00",
            "643440dff25f4676b23ce577e316bb98",
            "2a677a14da884e55b24e5208082d56d8",
            "8a8f4f809673439c88b4e1f6f71117f5",
            "67bb50b5797440149155fd5faf62d9f9",
            "73203f1f46144621934be134b5cf8896",
            "51c32735566a4bfcab4ea3d95f91c068",
            "d33adfbae3864fb6a5ab55139e7fc9ba",
            "9c2e542d47664110937071ea63c36e9b",
            "135c520fb6384529b32966044ccb1a98",
            "10da42f524bf45dca7fb069284c549bc",
            "10106b178e4c41f5bec8cf725e332f0c",
            "e1f3488a230c442bb7605760195d27c9",
            "44b31c3f686240fab8760c9926763619",
            "76bfad675d0d463cad4eca819ccdd72d",
            "d5ea0377e9564ea58846079b2c208296",
            "fa67f5728d164e62aa631a6f9e00f0a6",
            "fb39e43d7c1848e99bba313eff455476",
            "bd924118b6044c6dbc81a8003833c588",
            "0243d9e78ff5473eb23893eef2a80a69",
            "b9a7e53207934a9bba486c44770bb8f5",
            "582a15da3fea4544a315a70192349bce",
            "e135cb5ca18e4a4089efef55bdab43de",
            "62f966b7d5db43b6ab35a746738ae5a3",
            "e7823011a2bd49edb0a9bcf2c0a3333c",
            "c8c9c2ca26da4c478efb862ca9ccd168",
            "d7ba74b3e04a45309b98b011abf19921",
            "a9170773a67b4013bc3fe5a91da56e11",
            "923a8c2f6667456a8e34baf401d1828a",
            "7640863bb88a4edabaddbec78b9e6f2d",
            "190e0fe4b41444978320d765dd12eb0a",
            "56a0f533c73b415b99b79b933052e142",
            "d4425472fb1f44a8a063f3ba968c9f11",
            "380f6d6f0ab347879d252cf84c2e97aa",
            "60a73478e5fb45129adad3c79342ce83",
            "d4b22164bc534b12a7063c0375185b88"
          ]
        },
        "id": "PN-s0KudPj9Q",
        "outputId": "ba79913a-95df-4e12-b311-9cc2c9913f22"
      },
      "outputs": [
        {
          "output_type": "display_data",
          "data": {
            "text/plain": [
              "  0%|          | 0/36 [00:00<?, ?it/s]"
            ],
            "application/vnd.jupyter.widget-view+json": {
              "version_major": 2,
              "version_minor": 0,
              "model_id": "c2e87205a82143b2b8954238cb9c2d4c"
            }
          },
          "metadata": {}
        },
        {
          "output_type": "stream",
          "name": "stdout",
          "text": [
            "Epoch [0],last_lr: 0.00272, train_loss: 1.2549, val_loss: 0.1230, val_acc: 0.9933\n"
          ]
        },
        {
          "output_type": "display_data",
          "data": {
            "text/plain": [
              "  0%|          | 0/36 [00:00<?, ?it/s]"
            ],
            "application/vnd.jupyter.widget-view+json": {
              "version_major": 2,
              "version_minor": 0,
              "model_id": "3c68928798a449bc978e989338e441af"
            }
          },
          "metadata": {}
        },
        {
          "output_type": "stream",
          "name": "stdout",
          "text": [
            "Epoch [1],last_lr: 0.00756, train_loss: 0.0390, val_loss: 0.0002, val_acc: 1.0000\n"
          ]
        },
        {
          "output_type": "display_data",
          "data": {
            "text/plain": [
              "  0%|          | 0/36 [00:00<?, ?it/s]"
            ],
            "application/vnd.jupyter.widget-view+json": {
              "version_major": 2,
              "version_minor": 0,
              "model_id": "809798d852244bc389d63bef52bac72c"
            }
          },
          "metadata": {}
        },
        {
          "output_type": "stream",
          "name": "stdout",
          "text": [
            "Epoch [2],last_lr: 0.01000, train_loss: 0.0035, val_loss: 0.0001, val_acc: 1.0000\n"
          ]
        },
        {
          "output_type": "display_data",
          "data": {
            "text/plain": [
              "  0%|          | 0/36 [00:00<?, ?it/s]"
            ],
            "application/vnd.jupyter.widget-view+json": {
              "version_major": 2,
              "version_minor": 0,
              "model_id": "f755ea3d21774d58b0c8a4a40430115e"
            }
          },
          "metadata": {}
        },
        {
          "output_type": "stream",
          "name": "stdout",
          "text": [
            "Epoch [3],last_lr: 0.00950, train_loss: 0.0026, val_loss: 0.0001, val_acc: 1.0000\n"
          ]
        },
        {
          "output_type": "display_data",
          "data": {
            "text/plain": [
              "  0%|          | 0/36 [00:00<?, ?it/s]"
            ],
            "application/vnd.jupyter.widget-view+json": {
              "version_major": 2,
              "version_minor": 0,
              "model_id": "2964d49cd621449e9dbe4673cc245c4f"
            }
          },
          "metadata": {}
        },
        {
          "output_type": "stream",
          "name": "stdout",
          "text": [
            "Epoch [4],last_lr: 0.00812, train_loss: 0.0024, val_loss: 0.0001, val_acc: 1.0000\n"
          ]
        },
        {
          "output_type": "display_data",
          "data": {
            "text/plain": [
              "  0%|          | 0/36 [00:00<?, ?it/s]"
            ],
            "application/vnd.jupyter.widget-view+json": {
              "version_major": 2,
              "version_minor": 0,
              "model_id": "0f5eab1cce384f9691c614c904ddbc08"
            }
          },
          "metadata": {}
        },
        {
          "output_type": "stream",
          "name": "stdout",
          "text": [
            "Epoch [5],last_lr: 0.00611, train_loss: 0.0015, val_loss: 0.0001, val_acc: 1.0000\n"
          ]
        },
        {
          "output_type": "display_data",
          "data": {
            "text/plain": [
              "  0%|          | 0/36 [00:00<?, ?it/s]"
            ],
            "application/vnd.jupyter.widget-view+json": {
              "version_major": 2,
              "version_minor": 0,
              "model_id": "2dba95d1a2cb4b2f95a130e07ffd9490"
            }
          },
          "metadata": {}
        },
        {
          "output_type": "stream",
          "name": "stdout",
          "text": [
            "Epoch [6],last_lr: 0.00389, train_loss: 0.0017, val_loss: 0.0001, val_acc: 1.0000\n"
          ]
        },
        {
          "output_type": "display_data",
          "data": {
            "text/plain": [
              "  0%|          | 0/36 [00:00<?, ?it/s]"
            ],
            "application/vnd.jupyter.widget-view+json": {
              "version_major": 2,
              "version_minor": 0,
              "model_id": "8a8f4f809673439c88b4e1f6f71117f5"
            }
          },
          "metadata": {}
        },
        {
          "output_type": "stream",
          "name": "stdout",
          "text": [
            "Epoch [7],last_lr: 0.00188, train_loss: 0.0017, val_loss: 0.0000, val_acc: 1.0000\n"
          ]
        },
        {
          "output_type": "display_data",
          "data": {
            "text/plain": [
              "  0%|          | 0/36 [00:00<?, ?it/s]"
            ],
            "application/vnd.jupyter.widget-view+json": {
              "version_major": 2,
              "version_minor": 0,
              "model_id": "76bfad675d0d463cad4eca819ccdd72d"
            }
          },
          "metadata": {}
        },
        {
          "output_type": "stream",
          "name": "stdout",
          "text": [
            "Epoch [8],last_lr: 0.00050, train_loss: 0.0011, val_loss: 0.0001, val_acc: 1.0000\n"
          ]
        },
        {
          "output_type": "display_data",
          "data": {
            "text/plain": [
              "  0%|          | 0/36 [00:00<?, ?it/s]"
            ],
            "application/vnd.jupyter.widget-view+json": {
              "version_major": 2,
              "version_minor": 0,
              "model_id": "c8c9c2ca26da4c478efb862ca9ccd168"
            }
          },
          "metadata": {}
        },
        {
          "output_type": "stream",
          "name": "stdout",
          "text": [
            "Epoch [9],last_lr: 0.00000, train_loss: 0.0014, val_loss: 0.0000, val_acc: 1.0000\n"
          ]
        }
      ],
      "source": [
        "history2 = fit_one_cycle(epoch2,lr,mymodel,train_dl,valid_dl)"
      ]
    },
    {
      "cell_type": "code",
      "execution_count": 36,
      "metadata": {
        "colab": {
          "base_uri": "https://localhost:8080/"
        },
        "id": "stoKSGVgh55T",
        "outputId": "10d80275-af0b-44d0-f793-07b434438461"
      },
      "outputs": [
        {
          "output_type": "stream",
          "name": "stdout",
          "text": [
            "[{'val_loss': 0.12302039563655853, 'val_acc': 0.9932716488838196, 'train_loss': 1.2548537254333496, 'lrs': [0.0003999999999999993, 0.0004020687701104062, 0.0004082732971875582, 0.0004186082330063876, 0.00043306466898092484, 0.0004516301438434057, 0.0004742886543857086, 0.0005010206692539383, 0.0005318031457841963, 0.0005666095498650797, 0.0006054098788097519, 0.0006481706872178781, 0.0006948551158051548, 0.0007454229231755472, 0.0007998305205088735, 0.0008580310091338261, 0.0009199742209540368, 0.000985606761692355, 0.001054872056916057, 0.001127710400803287, 0.0012040590076087439, 0.0012838520657842047, 0.001367020794707267, 0.0014534935039693785, 0.0015431956551720891, 0.0016360499261782128, 0.0017319762777625487, 0.0018308920226046965, 0.0019327118965644964, 0.002037348132178667, 0.0021447105343152407, 0.0022547065579206684, 0.002367241387792495, 0.0024822180203088774, 0.002599537347044505, 0.0027190982402008285]}, {'val_loss': 0.0002114996314048767, 'val_acc': 1.0, 'train_loss': 0.038950882852077484, 'lrs': [0.0028407976397769544, 0.0029645306424060944, 0.003090190591780952, 0.003217669170590135, 0.003346856493886328, 0.0034776412038057475, 0.0036099105655572348, 0.003743550564598243, 0.003878446004913952, 0.004014480608314795, 0.004151537114666818, 0.004289497382968443, 0.004428242493186552, 0.00456765284876407, 0.004707608279710703, 0.004847988146187981, 0.004988671442499291, 0.00512953690139528, 0.0052704630986047185, 0.005411328557500709, 0.0055520118538120175, 0.005692391720289296, 0.005832347151235929, 0.0059717575068134465, 0.006110502617031556, 0.0062484628853331815, 0.006385519391685203, 0.006521553995086046, 0.006656449435401755, 0.006790089434442764, 0.006922358796194252, 0.007053143506113671, 0.0071823308294098635, 0.007309809408219046, 0.007435469357593905, 0.007559202360223044]}, {'val_loss': 0.0001370823010802269, 'val_acc': 1.0, 'train_loss': 0.003450261428952217, 'lrs': [0.007680901759799172, 0.007800462652955493, 0.007917781979691122, 0.008032758612207503, 0.008145293442079331, 0.008255289465684759, 0.008362651867821333, 0.0084672881034355, 0.008569107977395303, 0.00866802372223745, 0.008763950073821785, 0.008856804344827909, 0.008946506496030621, 0.009032979205292732, 0.009116147934215795, 0.009195940992391256, 0.009272289599196713, 0.00934512794308394, 0.009414393238307645, 0.009480025779045964, 0.009541968990866175, 0.009600169479491126, 0.009654577076824452, 0.009705144884194845, 0.009751829312782121, 0.009794590121190248, 0.009833390450134918, 0.009868196854215803, 0.009898979330746061, 0.009925711345614291, 0.009948369856156594, 0.009966935331019075, 0.009981391766993612, 0.00999172670281244, 0.009997931229889593, 0.01]}, {'val_loss': 0.00013445744116324931, 'val_acc': 1.0, 'train_loss': 0.002597824204713106, 'lrs': [0.009999611463959024, 0.009998445916220441, 0.009996503537927897, 0.009993784630956187, 0.009990289617864344, 0.009986019041829957, 0.009980973566564766, 0.009975153976211501, 0.009968561175222016, 0.009961196188216729, 0.009953060159825375, 0.009944154354509118, 0.009934480156364028, 0.00992403906890598, 0.009912832714836978, 0.009900862835792962, 0.009888131292073145, 0.009874640062350875, 0.009860391243366132, 0.009845387049599665, 0.009829629812928816, 0.009813121982265121, 0.009795866123173713, 0.009777864917474588, 0.009759121162825816, 0.009739637772288735, 0.009719417773875232, 0.009698464310077126, 0.009676780637377792, 0.009654370125746048, 0.009631236258112411, 0.0096073826298278, 0.009582812948104764, 0.00955753103144132, 0.00953154080902751, 0.009504846320134737]}, {'val_loss': 0.00010818785813171417, 'val_acc': 1.0, 'train_loss': 0.002428839448839426, 'lrs': [0.009477451713488011, 0.009449361246621168, 0.00942057928521518, 0.009391110302419675, 0.00936095887815774, 0.00933012969841412, 0.009298627554506956, 0.009266457342343146, 0.009233624061657435, 0.009200132815235395, 0.009165988808120357, 0.009131197346804489, 0.009095763838404073, 0.009059693789819169, 0.009022992806877747, 0.008985666593464468, 0.008947720950634211, 0.0089091617757105, 0.008869995061368973, 0.008830226894706028, 0.008789863456292802, 0.008748911019214612, 0.008707375948096023, 0.008665264698111694, 0.008622583813983146, 0.008579339928961607, 0.008535539763797114, 0.008491190125694003, 0.008446297907252966, 0.008400870085399841, 0.008354913720301291, 0.008308435954267546, 0.00826144401064238, 0.008213945192680502, 0.008165946882412515, 0.008117456539497631]}, {'val_loss': 6.392351497197524e-05, 'val_acc': 1.0, 'train_loss': 0.0015127079095691442, 'lrs': [0.008068481700064342, 0.008019029975539181, 0.007969109051463795, 0.007918726686300505, 0.007867890710226503, 0.007816609023916949, 0.00776488959731707, 0.00771274046840352, 0.007660169741935153, 0.007607185588193423, 0.007553796241712602, 0.00750001, 0.007445835222246425, 0.007391280328027019, 0.007336353795992745, 0.007281064162552668, 0.007225420020547272, 0.007169430017913008, 0.007113102856338263, 0.007056447289910997, 0.006999472123758218, 0.006942186212677549, 0.0068845984597610335, 0.006826717815011489, 0.006768553273951514, 0.006710113876225478, 0.006651408704194597, 0.006592446881525418, 0.006533237571771854, 0.006473789976951033, 0.006414113336113168, 0.006354216923905663, 0.006294110049131702, 0.006233802053303514, 0.0061733023091905675, 0.0061126202193628925]}, {'val_loss': 6.257464701775461e-05, 'val_acc': 1.0, 'train_loss': 0.0016628619050607085, 'lrs': [0.006051765214729793, 0.005990746753074124, 0.005929574317582431, 0.0058682574153710995, 0.005806805576008821, 0.005745228350035548, 0.005683535307478201, 0.005621736036363334, 0.005559840141227017, 0.005497857241622152, 0.005435796970623437, 0.0053736689733302504, 0.005311482905367656, 0.005249248431385772, 0.005186975223557743, 0.00512467296007653, 0.005062351323650784, 0.00500002, 0.004937688676349217, 0.004875367039923471, 0.004813064776442257, 0.004750791568614227, 0.004688557094632344, 0.00462637102666975, 0.004564243029376564, 0.00450218275837785, 0.004440199858772983, 0.004378303963636669, 0.0043165046925218, 0.004254811649964451, 0.004193234423991179, 0.004131782584628901, 0.00407046568241757, 0.004009293246925877, 0.003948274785270209, 0.003887419780637108]}, {'val_loss': 4.6454111725324765e-05, 'val_acc': 1.0, 'train_loss': 0.0017412578454241157, 'lrs': [0.0038267376908094346, 0.0037662379466964855, 0.0037059299508682983, 0.003645823076094338, 0.003585926663886833, 0.003526250023048967, 0.0034668024282281484, 0.003407593118474584, 0.0033486312958054057, 0.0032899261237745235, 0.0032314867260484856, 0.0031733221849885125, 0.0031154415402389665, 0.0030578537873224526, 0.0030005678762417827, 0.0029435927100890063, 0.0028869371436617388, 0.0028306099820869924, 0.002774619979452727, 0.002718975837447332, 0.0026636862040072557, 0.0026087596719729833, 0.0025542047777535777, 0.0025000300000000016, 0.002446243758287401, 0.002392854411806578, 0.002339870258064848, 0.002287299531596481, 0.0022351504026829304, 0.0021834309760830513, 0.002132149289773498, 0.002081313313699497, 0.0020309309485362042, 0.001981010024460819, 0.0019315582999356597, 0.00188258346050237]}, {'val_loss': 5.0018890760838985e-05, 'val_acc': 1.0, 'train_loss': 0.001131890108808875, 'lrs': [0.0018340931175874862, 0.001786094807319497, 0.0017385959893576213, 0.0016916040457324562, 0.0016451262796987102, 0.0015991699146001577, 0.0015537420927470345, 0.001508849874305998, 0.0014645002362028865, 0.001420700071038393, 0.001377456186016854, 0.001334775301888306, 0.0012926640519039766, 0.0012511289807853878, 0.0012101765437071972, 0.001169813105293973, 0.0011300449386310283, 0.0010908782242895004, 0.0010523190493657894, 0.0010143734065355336, 0.0009770471931222536, 0.0009403462101808318, 0.0009042761615959263, 0.000868842653195513, 0.0008340511918796442, 0.000799907184764606, 0.0007664159383425639, 0.0007335826576568546, 0.0007014124454930446, 0.0006699103015858822, 0.0006390811218422613, 0.0006089296975803241, 0.0005794607147848218, 0.0005506787533788335, 0.0005225882865119886, 0.0004951936798652628]}, {'val_loss': 4.44501347374171e-05, 'val_acc': 1.0, 'train_loss': 0.0013862320920452476, 'lrs': [0.00046849919097249106, 0.00044250896855868056, 0.0004172270518952364, 0.00039265737017219875, 0.00036880374188758897, 0.0003456698742539522, 0.00032325936262220803, 0.00030157568992287415, 0.0002806222261247683, 0.00026040222771126485, 0.00024091883717418546, 0.0002221750825254118, 0.00020417387682628775, 0.00018691801773487886, 0.00017041018707118479, 0.00015465295040033536, 0.00013964875663386724, 0.00012539993764912555, 0.0001119087079268557, 9.917716420703785e-05, 8.720728516302332e-05, 7.600093109402015e-05, 6.55598436359717e-05, 5.588564549088189e-05, 4.6979840174624214e-05, 3.884381178327169e-05, 3.147882477798485e-05, 2.4886023788500258e-05, 1.906643343523411e-05, 1.4020958170042977e-05, 9.750382135656851e-06, 6.255369043812656e-06, 3.536462072102727e-06, 1.594083779558789e-06, 4.2853604097531257e-07, 4e-08]}]\n"
          ]
        }
      ],
      "source": [
        "print(history2)"
      ]
    },
    {
      "cell_type": "code",
      "execution_count": 37,
      "metadata": {
        "colab": {
          "base_uri": "https://localhost:8080/",
          "height": 390
        },
        "id": "_Q1JGHpLiCLJ",
        "outputId": "f0060cd8-27d0-4f39-e377-7cbdd4c4f387"
      },
      "outputs": [
        {
          "output_type": "display_data",
          "data": {
            "text/plain": [
              "<Figure size 1080x432 with 2 Axes>"
            ],
            "image/png": "[encoded data removed]"
          },
          "metadata": {
            "needs_background": "light"
          }
        }
      ],
      "source": [
        "li1 = []\n",
        "li2 = []\n",
        "li3 = []\n",
        "for dict1 in history2:\n",
        "    li1.append(dict1[\"val_loss\"])\n",
        "    li2.append(dict1[\"val_acc\"])\n",
        "    li3.append(dict1[\"train_loss\"])\n",
        "\n",
        "fig =plt.figure(figsize=(15, 6))\n",
        "\n",
        "plt.subplot(1, 3, 1)\n",
        "plt.plot(range(1,epoch2+1), li1)\n",
        "plt.plot(range(1,epoch2+1), li3)\n",
        "plt.title(\"losses vs epochs\")\n",
        "plt.legend([\"val_loss\",\"train_loss\"])\n",
        "\n",
        "\n",
        "plt.subplot(1, 3, 2)\n",
        "plt.plot(range(1,epoch2+1), li2)\n",
        "plt.title(\"val_acc vs epochs\")\n",
        "\n",
        "plt.show()"
      ]
    },
    {
      "cell_type": "code",
      "execution_count": 38,
      "metadata": {
        "id": "JyDJ-Bw2lRjZ"
      },
      "outputs": [],
      "source": [
        "test_list_sample = test_list[:100]"
      ]
    },
    {
      "cell_type": "code",
      "execution_count": 39,
      "metadata": {
        "colab": {
          "base_uri": "https://localhost:8080/",
          "height": 380
        },
        "id": "t85zJz8exroX",
        "outputId": "d5ecb48a-43d7-4a07-8684-da57dbe3979b"
      },
      "outputs": [
        {
          "output_type": "error",
          "ename": "IndexError",
          "evalue": "ignored",
          "traceback": [
            "\u001b[0;31m---------------------------------------------------------------------------\u001b[0m",
            "\u001b[0;31mIndexError\u001b[0m                                Traceback (most recent call last)",
            "\u001b[0;32m<ipython-input-39-0ed745ec0d6e>\u001b[0m in \u001b[0;36m<module>\u001b[0;34m()\u001b[0m\n\u001b[1;32m      4\u001b[0m     \u001b[0msample_tensor\u001b[0m \u001b[0;34m=\u001b[0m \u001b[0msample_tensor\u001b[0m\u001b[0;34m.\u001b[0m\u001b[0munsqueeze\u001b[0m\u001b[0;34m(\u001b[0m\u001b[0;36m0\u001b[0m\u001b[0;34m)\u001b[0m\u001b[0;34m\u001b[0m\u001b[0;34m\u001b[0m\u001b[0m\n\u001b[1;32m      5\u001b[0m     \u001b[0msample_tensor\u001b[0m \u001b[0;34m=\u001b[0m \u001b[0msample_tensor\u001b[0m\u001b[0;34m.\u001b[0m\u001b[0mto\u001b[0m\u001b[0;34m(\u001b[0m\u001b[0mdevice\u001b[0m\u001b[0;34m)\u001b[0m\u001b[0;34m\u001b[0m\u001b[0;34m\u001b[0m\u001b[0m\n\u001b[0;32m----> 6\u001b[0;31m     \u001b[0moutput\u001b[0m \u001b[0;34m=\u001b[0m \u001b[0mmymodel\u001b[0m\u001b[0;34m(\u001b[0m\u001b[0msample_tensor\u001b[0m\u001b[0;34m)\u001b[0m\u001b[0;34m\u001b[0m\u001b[0;34m\u001b[0m\u001b[0m\n\u001b[0m\u001b[1;32m      7\u001b[0m     \u001b[0;31m#print(output)\u001b[0m\u001b[0;34m\u001b[0m\u001b[0;34m\u001b[0m\u001b[0;34m\u001b[0m\u001b[0m\n\u001b[1;32m      8\u001b[0m     \u001b[0moutput\u001b[0m \u001b[0;34m=\u001b[0m \u001b[0moutput\u001b[0m\u001b[0;34m.\u001b[0m\u001b[0mto\u001b[0m\u001b[0;34m(\u001b[0m\u001b[0;34m\"cpu\"\u001b[0m\u001b[0;34m)\u001b[0m\u001b[0;34m.\u001b[0m\u001b[0mdetach\u001b[0m\u001b[0;34m(\u001b[0m\u001b[0;34m)\u001b[0m\u001b[0;34m.\u001b[0m\u001b[0mnumpy\u001b[0m\u001b[0;34m(\u001b[0m\u001b[0;34m)\u001b[0m\u001b[0;34m\u001b[0m\u001b[0;34m\u001b[0m\u001b[0m\n",
            "\u001b[0;32m/usr/local/lib/python3.7/dist-packages/torch/nn/modules/module.py\u001b[0m in \u001b[0;36m_call_impl\u001b[0;34m(self, *input, **kwargs)\u001b[0m\n\u001b[1;32m   1100\u001b[0m         if not (self._backward_hooks or self._forward_hooks or self._forward_pre_hooks or _global_backward_hooks\n\u001b[1;32m   1101\u001b[0m                 or _global_forward_hooks or _global_forward_pre_hooks):\n\u001b[0;32m-> 1102\u001b[0;31m             \u001b[0;32mreturn\u001b[0m \u001b[0mforward_call\u001b[0m\u001b[0;34m(\u001b[0m\u001b[0;34m*\u001b[0m\u001b[0minput\u001b[0m\u001b[0;34m,\u001b[0m \u001b[0;34m**\u001b[0m\u001b[0mkwargs\u001b[0m\u001b[0;34m)\u001b[0m\u001b[0;34m\u001b[0m\u001b[0;34m\u001b[0m\u001b[0m\n\u001b[0m\u001b[1;32m   1103\u001b[0m         \u001b[0;31m# Do not call functions when jit is used\u001b[0m\u001b[0;34m\u001b[0m\u001b[0;34m\u001b[0m\u001b[0;34m\u001b[0m\u001b[0m\n\u001b[1;32m   1104\u001b[0m         \u001b[0mfull_backward_hooks\u001b[0m\u001b[0;34m,\u001b[0m \u001b[0mnon_full_backward_hooks\u001b[0m \u001b[0;34m=\u001b[0m \u001b[0;34m[\u001b[0m\u001b[0;34m]\u001b[0m\u001b[0;34m,\u001b[0m \u001b[0;34m[\u001b[0m\u001b[0;34m]\u001b[0m\u001b[0;34m\u001b[0m\u001b[0;34m\u001b[0m\u001b[0m\n",
            "\u001b[0;32m<ipython-input-25-bda7b6d0df5c>\u001b[0m in \u001b[0;36mforward\u001b[0;34m(self, x)\u001b[0m\n\u001b[1;32m    103\u001b[0m         \u001b[0;31m# print(x4.shape)\u001b[0m\u001b[0;34m\u001b[0m\u001b[0;34m\u001b[0m\u001b[0;34m\u001b[0m\u001b[0m\n\u001b[1;32m    104\u001b[0m         \u001b[0;31m# print(x7.shape)\u001b[0m\u001b[0;34m\u001b[0m\u001b[0;34m\u001b[0m\u001b[0;34m\u001b[0m\u001b[0m\n\u001b[0;32m--> 105\u001b[0;31m         \u001b[0mconcat_x4_x7\u001b[0m \u001b[0;34m=\u001b[0m \u001b[0mtorch\u001b[0m\u001b[0;34m.\u001b[0m\u001b[0mcat\u001b[0m\u001b[0;34m(\u001b[0m\u001b[0;34m[\u001b[0m\u001b[0mx4\u001b[0m\u001b[0;34m,\u001b[0m \u001b[0mx7\u001b[0m\u001b[0;34m]\u001b[0m\u001b[0;34m,\u001b[0m \u001b[0maxis\u001b[0m\u001b[0;34m=\u001b[0m\u001b[0;36m1\u001b[0m\u001b[0;34m)\u001b[0m\u001b[0;34m\u001b[0m\u001b[0;34m\u001b[0m\u001b[0m\n\u001b[0m\u001b[1;32m    106\u001b[0m         \u001b[0mout1\u001b[0m \u001b[0;34m=\u001b[0m \u001b[0mself\u001b[0m\u001b[0;34m.\u001b[0m\u001b[0mclassifier1\u001b[0m\u001b[0;34m(\u001b[0m\u001b[0mconcat_x4_x7\u001b[0m\u001b[0;34m)\u001b[0m\u001b[0;34m\u001b[0m\u001b[0;34m\u001b[0m\u001b[0m\n\u001b[1;32m    107\u001b[0m         \u001b[0mout2\u001b[0m \u001b[0;34m=\u001b[0m \u001b[0mself\u001b[0m\u001b[0;34m.\u001b[0m\u001b[0mclassifier2\u001b[0m\u001b[0;34m(\u001b[0m\u001b[0mconcat_x4_x7\u001b[0m\u001b[0;34m)\u001b[0m\u001b[0;34m\u001b[0m\u001b[0;34m\u001b[0m\u001b[0m\n",
            "\u001b[0;31mIndexError\u001b[0m: Dimension out of range (expected to be in range of [-1, 0], but got 1)"
          ]
        }
      ],
      "source": [
        "for filename in test_list_sample:\n",
        "    sample_image = Image.open(filename)\n",
        "    sample_tensor = valid_tfms(sample_image)\n",
        "    sample_tensor = sample_tensor.unsqueeze(0)\n",
        "    sample_tensor = sample_tensor.to(device)\n",
        "    output = mymodel(sample_tensor)\n",
        "    #print(output)\n",
        "    output = output.to(\"cpu\").detach().numpy()\n",
        "    #print(output)\n",
        "    index = output[0].argmax()\n",
        "    if index == 0:\n",
        "        print(\"A\")\n",
        "    elif index == 1:\n",
        "        print(\"B\")\n",
        "    elif index == 2:\n",
        "        print(\"C\")\n",
        "    elif index == 3:\n",
        "        print(\"D\")\n",
        "    elif index == 4:\n",
        "        print(\"E\")\n",
        "    elif index == 5:\n",
        "        print(\"F\")\n",
        "    elif index == 6:\n",
        "        print(\"G\")\n",
        "    elif index == 7:\n",
        "        print(\"H\")\n",
        "    elif index == 8:\n",
        "        print(\"I\")\n",
        "    elif index == 9:\n",
        "        print(\"J\")\n",
        "    elif index == 10:\n",
        "        print(\"K\")\n",
        "    elif index == 11:\n",
        "        print(\"L\")\n",
        "    elif index == 12:\n",
        "        print(\"M\")\n",
        "    elif index == 13:\n",
        "        print(\"N\")\n",
        "    elif index == 14:\n",
        "        print(\"O\")\n",
        "    elif index == 15:\n",
        "        print(\"P\")\n",
        "    elif index == 16:\n",
        "        print(\"Q\")\n",
        "    elif index == 17:\n",
        "        print(\"R\")\n",
        "    elif index == 18:\n",
        "        print(\"S\")\n",
        "    elif index == 19:\n",
        "        print(\"T\")\n",
        "    elif index == 20:\n",
        "        print(\"U\")\n",
        "    elif index == 21:\n",
        "        print(\"V\")\n",
        "    elif index == 22:\n",
        "        print(\"W\")\n",
        "    elif index == 23:\n",
        "        print(\"X\")\n",
        "    elif index == 24:\n",
        "        print(\"Y\")\n",
        "    elif index == 25:\n",
        "        print(\"Z\")\n",
        "    elif index == 26:\n",
        "        print(\"0\")\n",
        "    elif index == 27:\n",
        "        print(\"1\")\n",
        "    elif index == 28:\n",
        "        print(\"2\")\n",
        "    elif index == 29:\n",
        "        print(\"3\")\n",
        "    elif index == 30:\n",
        "        print(\"4\")\n",
        "    elif index == 31:\n",
        "        print(\"5\")\n",
        "    elif index == 32:\n",
        "        print(\"6\")\n",
        "    elif index == 33:\n",
        "        print(\"7\")\n",
        "    elif index == 34:\n",
        "        print(\"8\")\n",
        "    elif index == 35:\n",
        "        print(\"9\")\n",
        "    img = mpimg.imread(filename)\n",
        "    imgplot = plt.imshow(img)\n",
        "    plt.show()"
      ]
    },
    {
      "cell_type": "code",
      "execution_count": null,
      "metadata": {
        "id": "0TNCgZZOnbDq"
      },
      "outputs": [],
      "source": [
        "print(test_list[:5])"
      ]
    },
    {
      "cell_type": "code",
      "execution_count": null,
      "metadata": {
        "id": "EZPgNJgU9LMa"
      },
      "outputs": [],
      "source": [
        "our_final_output = []\n",
        "actual_final_output = []\n",
        "for filename in tqdm(test_list):\n",
        "    sample_image = Image.open(filename)\n",
        "    sample_tensor = valid_tfms(sample_image)\n",
        "    sample_tensor = sample_tensor.unsqueeze(0)\n",
        "    sample_tensor = sample_tensor.to(device)\n",
        "    output = mymodel(sample_tensor)\n",
        "    #print(output)\n",
        "    output = output.to(\"cpu\").detach().numpy()\n",
        "    #print(output)\n",
        "    index = output[0].argmax()\n",
        "    our_final_output.append(index)\n",
        "    label = filename.split('/')[-1].split('.')[0]\n",
        "    ch = None\n",
        "    double__present = False\n",
        "    for i in range(len(label)-2):\n",
        "        # print(label)\n",
        "        if label[i] == '_' and label[i+2] == \"_\":\n",
        "            ch = label[i+1]\n",
        "            double__present = True\n",
        "            if ch == \"A\":\n",
        "                actual_final_output.append(0)\n",
        "            elif ch == \"B\":\n",
        "                actual_final_output.append(1)\n",
        "            elif ch == \"C\":\n",
        "                actual_final_output.append(2)\n",
        "            elif ch == \"D\":\n",
        "                actual_final_output.append(3)\n",
        "            elif ch == \"E\":\n",
        "                actual_final_output.append(4)\n",
        "            elif ch == \"F\":\n",
        "                actual_final_output.append(5)\n",
        "            elif ch == \"G\":\n",
        "                actual_final_output.append(6)\n",
        "            elif ch == \"H\":\n",
        "                actual_final_output.append(7)\n",
        "            elif ch == \"I\":\n",
        "                actual_final_output.append(8)\n",
        "            elif ch == \"J\":\n",
        "                actual_final_output.append(9)\n",
        "            elif ch == \"K\":\n",
        "                actual_final_output.append(10)\n",
        "            elif ch == \"L\":\n",
        "                actual_final_output.append(11)\n",
        "            elif ch == \"M\":\n",
        "                actual_final_output.append(12)\n",
        "            elif ch == \"N\":\n",
        "                actual_final_output.append(13)\n",
        "            elif ch == \"O\":\n",
        "                actual_final_output.append(14)\n",
        "            elif ch == \"P\":\n",
        "                actual_final_output.append(15)\n",
        "            elif ch == \"Q\":\n",
        "                actual_final_output.append(16)\n",
        "            elif ch == \"R\":\n",
        "                actual_final_output.append(17)\n",
        "            elif ch == \"S\":\n",
        "                actual_final_output.append(18)\n",
        "            elif ch == \"T\":\n",
        "                actual_final_output.append(19)\n",
        "            elif ch == \"U\":\n",
        "                actual_final_output.append(20)\n",
        "            elif ch == \"V\":\n",
        "                actual_final_output.append(21)\n",
        "            elif ch == \"W\":\n",
        "                actual_final_output.append(22)\n",
        "            elif ch == \"X\":\n",
        "                actual_final_output.append(23)\n",
        "            elif ch == \"Y\":\n",
        "                actual_final_output.append(24)\n",
        "            elif ch == \"Z\":\n",
        "                actual_final_output.append(25)\n",
        "            elif ch == \"0\":\n",
        "                actual_final_output.append(26)\n",
        "            elif ch == \"1\":\n",
        "                actual_final_output.append(27)\n",
        "            elif ch == \"2\":\n",
        "                actual_final_output.append(28)\n",
        "            elif ch == \"3\":\n",
        "                actual_final_output.append(29)\n",
        "            elif ch == \"4\":\n",
        "                actual_final_output.append(30)\n",
        "            elif ch == \"5\":\n",
        "                actual_final_output.append(31)\n",
        "            elif ch == \"6\":\n",
        "                actual_final_output.append(32)\n",
        "            elif ch == \"7\":\n",
        "                actual_final_output.append(33)\n",
        "            elif ch == \"8\":\n",
        "                actual_final_output.append(34)\n",
        "            elif ch == \"9\":\n",
        "                actual_final_output.append(35)\n",
        "    if double__present == False:\n",
        "      actual_final_output.append(36)\n",
        "\n",
        "total = 0\n",
        "same = 0\n",
        "for a,b in zip(our_final_output,actual_final_output):\n",
        "    if a==b:\n",
        "        same = same + 1\n",
        "    total = total + 1\n",
        "print(same)\n",
        "print(total)\n",
        "final_accuracy = same/total\n",
        "print(final_accuracy)"
      ]
    },
    {
      "cell_type": "code",
      "execution_count": null,
      "metadata": {
        "id": "nD88JcfuoLKX"
      },
      "outputs": [],
      "source": [
        "print(our_final_output)"
      ]
    },
    {
      "cell_type": "code",
      "execution_count": null,
      "metadata": {
        "id": "eg3yPL0toOmK"
      },
      "outputs": [],
      "source": [
        "print(actual_final_output)"
      ]
    },
    {
      "cell_type": "code",
      "execution_count": null,
      "metadata": {
        "id": "qgTeu1MeB3wZ"
      },
      "outputs": [],
      "source": [
        "torch.save(mymodel, \"/content/drive/MyDrive/SyntheticData/NewDataset/alphanumeric_with_anomaly_syn_kaggle\")"
      ]
    },
    {
      "cell_type": "code",
      "execution_count": null,
      "metadata": {
        "id": "iE8HGA96Cpi4"
      },
      "outputs": [],
      "source": [
        "model_loaded = torch.load(\"/content/mymodel\")\n",
        "model_loaded.eval()"
      ]
    },
    {
      "cell_type": "code",
      "execution_count": null,
      "metadata": {
        "id": "W_XK6AqpDEVP"
      },
      "outputs": [],
      "source": [
        "for filename in test_list_sample:\n",
        "    sample_image = Image.open(filename)\n",
        "    sample_tensor = valid_tfms(sample_image)\n",
        "    sample_tensor = sample_tensor.unsqueeze(0)\n",
        "    sample_tensor = sample_tensor.to(device)\n",
        "    output = model_loaded(sample_tensor)\n",
        "    #print(output)\n",
        "    output = output.to(\"cpu\").detach().numpy()\n",
        "    #print(output)\n",
        "    index = output[0].argmax()\n",
        "    if index == 0:\n",
        "        print(\"A\")\n",
        "    elif index == 1:\n",
        "        print(\"B\")\n",
        "    elif index == 2:\n",
        "        print(\"C\")\n",
        "    elif index == 3:\n",
        "        print(\"D\")\n",
        "    elif index == 4:\n",
        "        print(\"E\")\n",
        "    elif index == 5:\n",
        "        print(\"F\")\n",
        "    elif index == 6:\n",
        "        print(\"G\")\n",
        "    elif index == 7:\n",
        "        print(\"H\")\n",
        "    elif index == 8:\n",
        "        print(\"I\")\n",
        "    elif index == 9:\n",
        "        print(\"J\")\n",
        "    elif index == 10:\n",
        "        print(\"K\")\n",
        "    elif index == 11:\n",
        "        print(\"L\")\n",
        "    elif index == 12:\n",
        "        print(\"M\")\n",
        "    elif index == 13:\n",
        "        print(\"N\")\n",
        "    elif index == 14:\n",
        "        print(\"O\")\n",
        "    elif index == 15:\n",
        "        print(\"P\")\n",
        "    elif index == 16:\n",
        "        print(\"Q\")\n",
        "    elif index == 17:\n",
        "        print(\"R\")\n",
        "    elif index == 18:\n",
        "        print(\"S\")\n",
        "    elif index == 19:\n",
        "        print(\"T\")\n",
        "    elif index == 20:\n",
        "        print(\"U\")\n",
        "    elif index == 21:\n",
        "        print(\"V\")\n",
        "    elif index == 22:\n",
        "        print(\"W\")\n",
        "    elif index == 23:\n",
        "        print(\"X\")\n",
        "    elif index == 24:\n",
        "        print(\"Y\")\n",
        "    elif index == 25:\n",
        "        print(\"Z\")\n",
        "    elif index == 26:\n",
        "        print(\"0\")\n",
        "    elif index == 27:\n",
        "        print(\"1\")\n",
        "    elif index == 28:\n",
        "        print(\"2\")\n",
        "    elif index == 29:\n",
        "        print(\"3\")\n",
        "    elif index == 30:\n",
        "        print(\"4\")\n",
        "    elif index == 31:\n",
        "        print(\"5\")\n",
        "    elif index == 32:\n",
        "        print(\"6\")\n",
        "    elif index == 33:\n",
        "        print(\"7\")\n",
        "    elif index == 34:\n",
        "        print(\"8\")\n",
        "    elif index == 35:\n",
        "        print(\"9\")\n",
        "    img = mpimg.imread(filename)\n",
        "    imgplot = plt.imshow(img)\n",
        "    plt.show()"
      ]
    },
    {
      "cell_type": "code",
      "execution_count": null,
      "metadata": {
        "id": "miuAkeAQDWJI"
      },
      "outputs": [],
      "source": [
        ""
      ]
    },
    {
      "cell_type": "code",
      "execution_count": null,
      "metadata": {
        "id": "60fB-ETOfUyh"
      },
      "outputs": [],
      "source": [
        "# /content/auvsi-suas-dataset/generated_data/letters/A/circle_A_0.jpg"
      ]
    },
    {
      "cell_type": "code",
      "execution_count": null,
      "metadata": {
        "id": "URjmGePnfYA4"
      },
      "outputs": [],
      "source": [
        "img = mpimg.imread(\"/content/auvsi-suas-dataset/generated_data/letters/A/circle_A_0.jpg\")\n",
        "imgplot = plt.imshow(img)\n",
        "print(imgplot.size)\n",
        "plt.show()"
      ]
    },
    {
      "cell_type": "code",
      "execution_count": null,
      "metadata": {
        "id": "MhRlhM8_fbB5"
      },
      "outputs": [],
      "source": [
        "from PIL import Image\n",
        "\n",
        "im = Image.open('/content/auvsi-suas-dataset/generated_data/letters/A/circle_A_0.jpg')\n",
        "width, height = im.size\n",
        "print(width, height)"
      ]
    },
    {
      "cell_type": "code",
      "execution_count": null,
      "metadata": {
        "id": "igexCiwOhKXh"
      },
      "outputs": [],
      "source": [
        "from PIL import Image\n",
        "\n",
        "im = Image.open('/content/F_circle_16.png')\n",
        "width, height = im.size\n",
        "print(width, height)"
      ]
    },
    {
      "cell_type": "code",
      "execution_count": null,
      "metadata": {
        "id": "mBU5y7wRhdi7"
      },
      "outputs": [],
      "source": [
        "# /content/drive/MyDrive/SyntheticData/noisy_FinalDataset/J/noisy_J_pentagon_408.png"
      ]
    },
    {
      "cell_type": "code",
      "execution_count": null,
      "metadata": {
        "id": "JpHC7mXOm_PX"
      },
      "outputs": [],
      "source": [
        "img = cv2.imread(\"/content/drive/MyDrive/SyntheticData/noisy_FinalDataset/J/noisy_J_pentagon_408.png\")\n",
        "cv2_imshow(img)"
      ]
    },
    {
      "cell_type": "code",
      "execution_count": null,
      "metadata": {
        "id": "YwAEsm5JnOY_"
      },
      "outputs": [],
      "source": [
        "print(img)"
      ]
    },
    {
      "cell_type": "code",
      "execution_count": null,
      "metadata": {
        "id": "uL1ZFDuqnS1C"
      },
      "outputs": [],
      "source": [
        "train_list = []\n",
        "valid_list = []\n",
        "test_list  = []\n",
        "\n",
        "letter_list = os.listdir(\"/content/drive/MyDrive/SyntheticData/noisy_FinalDataset\")\n",
        "print(letter_list)\n",
        "\n",
        "dict1 = dict()\n",
        "\n",
        "for alphabet in letter_list:\n",
        "  li = os.listdir(\"/content/drive/MyDrive/SyntheticData/noisy_FinalDataset/\" + alphabet)\n",
        "  print(alphabet,len(li))\n",
        "  dict1[alphabet] = len(li)\n",
        "  for i in range(len(li)):\n",
        "    li[i] = \"/content/drive/MyDrive/SyntheticData/noisy_FinalDataset/\" + alphabet + \"/\" + li[i]\n",
        "  random.shuffle(li)\n",
        "  length = len(li)\n",
        "  train_list.extend(li[:int(length*0.7)][:100])\n",
        "  valid_list.extend(li[int(length*0.7):int(length*0.7)+int(length*0.2)][:20])\n",
        "  test_list.extend(li[int(length*0.7)+int(length*0.2):][:10])\n",
        "\n",
        "random.shuffle(train_list)\n",
        "random.shuffle(valid_list)\n",
        "random.shuffle(test_list)"
      ]
    },
    {
      "cell_type": "code",
      "execution_count": null,
      "metadata": {
        "id": "3Ph0vCZCnk0E"
      },
      "outputs": [],
      "source": [
        "dict1"
      ]
    },
    {
      "cell_type": "code",
      "execution_count": null,
      "metadata": {
        "id": "7-aOFuVkn3tE"
      },
      "outputs": [],
      "source": [
        "train_list = []\n",
        "valid_list = []\n",
        "test_list  = []\n",
        "\n",
        "letter_list = os.listdir(\"/content/drive/MyDrive/SyntheticData/FinalDataset\")\n",
        "print(letter_list)\n",
        "\n",
        "dict2 = dict()\n",
        "\n",
        "for alphabet in letter_list:\n",
        "  li = os.listdir(\"/content/drive/MyDrive/SyntheticData/FinalDataset/\" + alphabet)\n",
        "  print(alphabet,len(li))\n",
        "  dict2[alphabet] = len(li)\n",
        "  for i in range(len(li)):\n",
        "    li[i] = \"/content/drive/MyDrive/SyntheticData/FinalDataset/\" + alphabet + \"/\" + li[i]\n",
        "  random.shuffle(li)\n",
        "  length = len(li)\n",
        "  train_list.extend(li[:int(length*0.7)][:100])\n",
        "  valid_list.extend(li[int(length*0.7):int(length*0.7)+int(length*0.2)][:20])\n",
        "  test_list.extend(li[int(length*0.7)+int(length*0.2):][:10])\n",
        "\n",
        "random.shuffle(train_list)\n",
        "random.shuffle(valid_list)\n",
        "random.shuffle(test_list)"
      ]
    },
    {
      "cell_type": "code",
      "execution_count": null,
      "metadata": {
        "id": "9WaWm8YVoe85"
      },
      "outputs": [],
      "source": [
        "dict2"
      ]
    },
    {
      "cell_type": "code",
      "execution_count": null,
      "metadata": {
        "id": "mk0h4JD4p-DA"
      },
      "outputs": [],
      "source": [
        "li = dict1.keys()\n",
        "print(li)"
      ]
    },
    {
      "cell_type": "code",
      "execution_count": null,
      "metadata": {
        "id": "pLgQajuKsakH"
      },
      "outputs": [],
      "source": [
        "li[]"
      ]
    },
    {
      "cell_type": "code",
      "execution_count": null,
      "metadata": {
        "id": "GRH5vTs6sagJ"
      },
      "outputs": [],
      "source": [
        ""
      ]
    },
    {
      "cell_type": "code",
      "execution_count": null,
      "metadata": {
        "id": "mEiV6kd8sabA"
      },
      "outputs": [],
      "source": [
        ""
      ]
    },
    {
      "cell_type": "code",
      "execution_count": null,
      "metadata": {
        "id": "ZSBCOiOHsaTz"
      },
      "outputs": [],
      "source": [
        ""
      ]
    },
    {
      "cell_type": "code",
      "execution_count": null,
      "metadata": {
        "id": "8l7dHXGssaRK"
      },
      "outputs": [],
      "source": [
        ""
      ]
    },
    {
      "cell_type": "code",
      "execution_count": null,
      "metadata": {
        "id": "KqrQTQF3saOB"
      },
      "outputs": [],
      "source": [
        ""
      ]
    }
  ],
  "metadata": {
    "colab": {
      "collapsed_sections": [],
      "name": "color detection model.ipynb",
      "provenance": []
    },
    "kernelspec": {
      "display_name": "Python 3",
      "name": "python3"
    },
    "language_info": {
      "name": "python"
    },
    "widgets": {
      "application/vnd.jupyter.widget-state+json": {
        "c2e87205a82143b2b8954238cb9c2d4c": {
          "model_module": "@jupyter-widgets/controls",
          "model_name": "HBoxModel",
          "model_module_version": "1.5.0",
          "state": {
            "_dom_classes": [],
            "_model_module": "@jupyter-widgets/controls",
            "_model_module_version": "1.5.0",
            "_model_name": "HBoxModel",
            "_view_count": null,
            "_view_module": "@jupyter-widgets/controls",
            "_view_module_version": "1.5.0",
            "_view_name": "HBoxView",
            "box_style": "",
            "children": [
              "IPY_MODEL_47ca79eaecf94894b2d2850f2cde271f",
              "IPY_MODEL_ea16840e76d84c28833f6726ae0232f0",
              "IPY_MODEL_42407915cb9b491c867d6775fc80d7bd"
            ],
            "layout": "IPY_MODEL_99010dc70a7e441c96ebc0c683fa072b"
          }
        },
        "47ca79eaecf94894b2d2850f2cde271f": {
          "model_module": "@jupyter-widgets/controls",
          "model_name": "HTMLModel",
          "model_module_version": "1.5.0",
          "state": {
            "_dom_classes": [],
            "_model_module": "@jupyter-widgets/controls",
            "_model_module_version": "1.5.0",
            "_model_name": "HTMLModel",
            "_view_count": null,
            "_view_module": "@jupyter-widgets/controls",
            "_view_module_version": "1.5.0",
            "_view_name": "HTMLView",
            "description": "",
            "description_tooltip": null,
            "layout": "IPY_MODEL_f83ff8433fdb445b858d500a121aaf3d",
            "placeholder": "​",
            "style": "IPY_MODEL_9338b37e85234123bb29dce3f0622a9f",
            "value": "100%"
          }
        },
        "ea16840e76d84c28833f6726ae0232f0": {
          "model_module": "@jupyter-widgets/controls",
          "model_name": "FloatProgressModel",
          "model_module_version": "1.5.0",
          "state": {
            "_dom_classes": [],
            "_model_module": "@jupyter-widgets/controls",
            "_model_module_version": "1.5.0",
            "_model_name": "FloatProgressModel",
            "_view_count": null,
            "_view_module": "@jupyter-widgets/controls",
            "_view_module_version": "1.5.0",
            "_view_name": "ProgressView",
            "bar_style": "success",
            "description": "",
            "description_tooltip": null,
            "layout": "IPY_MODEL_69e93918bf87460188bf7efe3c9e1c44",
            "max": 36,
            "min": 0,
            "orientation": "horizontal",
            "style": "IPY_MODEL_f012a438afd2432b91d7be2e101e6a84",
            "value": 36
          }
        },
        "42407915cb9b491c867d6775fc80d7bd": {
          "model_module": "@jupyter-widgets/controls",
          "model_name": "HTMLModel",
          "model_module_version": "1.5.0",
          "state": {
            "_dom_classes": [],
            "_model_module": "@jupyter-widgets/controls",
            "_model_module_version": "1.5.0",
            "_model_name": "HTMLModel",
            "_view_count": null,
            "_view_module": "@jupyter-widgets/controls",
            "_view_module_version": "1.5.0",
            "_view_name": "HTMLView",
            "description": "",
            "description_tooltip": null,
            "layout": "IPY_MODEL_07e24676b89c44b692d45613543a44e6",
            "placeholder": "​",
            "style": "IPY_MODEL_0c1b1828d29046b785c84bfa254f628b",
            "value": " 36/36 [14:02&lt;00:00, 27.91s/it]"
          }
        },
        "99010dc70a7e441c96ebc0c683fa072b": {
          "model_module": "@jupyter-widgets/base",
          "model_name": "LayoutModel",
          "model_module_version": "1.2.0",
          "state": {
            "_model_module": "@jupyter-widgets/base",
            "_model_module_version": "1.2.0",
            "_model_name": "LayoutModel",
            "_view_count": null,
            "_view_module": "@jupyter-widgets/base",
            "_view_module_version": "1.2.0",
            "_view_name": "LayoutView",
            "align_content": null,
            "align_items": null,
            "align_self": null,
            "border": null,
            "bottom": null,
            "display": null,
            "flex": null,
            "flex_flow": null,
            "grid_area": null,
            "grid_auto_columns": null,
            "grid_auto_flow": null,
            "grid_auto_rows": null,
            "grid_column": null,
            "grid_gap": null,
            "grid_row": null,
            "grid_template_areas": null,
            "grid_template_columns": null,
            "grid_template_rows": null,
            "height": null,
            "justify_content": null,
            "justify_items": null,
            "left": null,
            "margin": null,
            "max_height": null,
            "max_width": null,
            "min_height": null,
            "min_width": null,
            "object_fit": null,
            "object_position": null,
            "order": null,
            "overflow": null,
            "overflow_x": null,
            "overflow_y": null,
            "padding": null,
            "right": null,
            "top": null,
            "visibility": null,
            "width": null
          }
        },
        "f83ff8433fdb445b858d500a121aaf3d": {
          "model_module": "@jupyter-widgets/base",
          "model_name": "LayoutModel",
          "model_module_version": "1.2.0",
          "state": {
            "_model_module": "@jupyter-widgets/base",
            "_model_module_version": "1.2.0",
            "_model_name": "LayoutModel",
            "_view_count": null,
            "_view_module": "@jupyter-widgets/base",
            "_view_module_version": "1.2.0",
            "_view_name": "LayoutView",
            "align_content": null,
            "align_items": null,
            "align_self": null,
            "border": null,
            "bottom": null,
            "display": null,
            "flex": null,
            "flex_flow": null,
            "grid_area": null,
            "grid_auto_columns": null,
            "grid_auto_flow": null,
            "grid_auto_rows": null,
            "grid_column": null,
            "grid_gap": null,
            "grid_row": null,
            "grid_template_areas": null,
            "grid_template_columns": null,
            "grid_template_rows": null,
            "height": null,
            "justify_content": null,
            "justify_items": null,
            "left": null,
            "margin": null,
            "max_height": null,
            "max_width": null,
            "min_height": null,
            "min_width": null,
            "object_fit": null,
            "object_position": null,
            "order": null,
            "overflow": null,
            "overflow_x": null,
            "overflow_y": null,
            "padding": null,
            "right": null,
            "top": null,
            "visibility": null,
            "width": null
          }
        },
        "9338b37e85234123bb29dce3f0622a9f": {
          "model_module": "@jupyter-widgets/controls",
          "model_name": "DescriptionStyleModel",
          "model_module_version": "1.5.0",
          "state": {
            "_model_module": "@jupyter-widgets/controls",
            "_model_module_version": "1.5.0",
            "_model_name": "DescriptionStyleModel",
            "_view_count": null,
            "_view_module": "@jupyter-widgets/base",
            "_view_module_version": "1.2.0",
            "_view_name": "StyleView",
            "description_width": ""
          }
        },
        "69e93918bf87460188bf7efe3c9e1c44": {
          "model_module": "@jupyter-widgets/base",
          "model_name": "LayoutModel",
          "model_module_version": "1.2.0",
          "state": {
            "_model_module": "@jupyter-widgets/base",
            "_model_module_version": "1.2.0",
            "_model_name": "LayoutModel",
            "_view_count": null,
            "_view_module": "@jupyter-widgets/base",
            "_view_module_version": "1.2.0",
            "_view_name": "LayoutView",
            "align_content": null,
            "align_items": null,
            "align_self": null,
            "border": null,
            "bottom": null,
            "display": null,
            "flex": null,
            "flex_flow": null,
            "grid_area": null,
            "grid_auto_columns": null,
            "grid_auto_flow": null,
            "grid_auto_rows": null,
            "grid_column": null,
            "grid_gap": null,
            "grid_row": null,
            "grid_template_areas": null,
            "grid_template_columns": null,
            "grid_template_rows": null,
            "height": null,
            "justify_content": null,
            "justify_items": null,
            "left": null,
            "margin": null,
            "max_height": null,
            "max_width": null,
            "min_height": null,
            "min_width": null,
            "object_fit": null,
            "object_position": null,
            "order": null,
            "overflow": null,
            "overflow_x": null,
            "overflow_y": null,
            "padding": null,
            "right": null,
            "top": null,
            "visibility": null,
            "width": null
          }
        },
        "f012a438afd2432b91d7be2e101e6a84": {
          "model_module": "@jupyter-widgets/controls",
          "model_name": "ProgressStyleModel",
          "model_module_version": "1.5.0",
          "state": {
            "_model_module": "@jupyter-widgets/controls",
            "_model_module_version": "1.5.0",
            "_model_name": "ProgressStyleModel",
            "_view_count": null,
            "_view_module": "@jupyter-widgets/base",
            "_view_module_version": "1.2.0",
            "_view_name": "StyleView",
            "bar_color": null,
            "description_width": ""
          }
        },
        "07e24676b89c44b692d45613543a44e6": {
          "model_module": "@jupyter-widgets/base",
          "model_name": "LayoutModel",
          "model_module_version": "1.2.0",
          "state": {
            "_model_module": "@jupyter-widgets/base",
            "_model_module_version": "1.2.0",
            "_model_name": "LayoutModel",
            "_view_count": null,
            "_view_module": "@jupyter-widgets/base",
            "_view_module_version": "1.2.0",
            "_view_name": "LayoutView",
            "align_content": null,
            "align_items": null,
            "align_self": null,
            "border": null,
            "bottom": null,
            "display": null,
            "flex": null,
            "flex_flow": null,
            "grid_area": null,
            "grid_auto_columns": null,
            "grid_auto_flow": null,
            "grid_auto_rows": null,
            "grid_column": null,
            "grid_gap": null,
            "grid_row": null,
            "grid_template_areas": null,
            "grid_template_columns": null,
            "grid_template_rows": null,
            "height": null,
            "justify_content": null,
            "justify_items": null,
            "left": null,
            "margin": null,
            "max_height": null,
            "max_width": null,
            "min_height": null,
            "min_width": null,
            "object_fit": null,
            "object_position": null,
            "order": null,
            "overflow": null,
            "overflow_x": null,
            "overflow_y": null,
            "padding": null,
            "right": null,
            "top": null,
            "visibility": null,
            "width": null
          }
        },
        "0c1b1828d29046b785c84bfa254f628b": {
          "model_module": "@jupyter-widgets/controls",
          "model_name": "DescriptionStyleModel",
          "model_module_version": "1.5.0",
          "state": {
            "_model_module": "@jupyter-widgets/controls",
            "_model_module_version": "1.5.0",
            "_model_name": "DescriptionStyleModel",
            "_view_count": null,
            "_view_module": "@jupyter-widgets/base",
            "_view_module_version": "1.2.0",
            "_view_name": "StyleView",
            "description_width": ""
          }
        },
        "3c68928798a449bc978e989338e441af": {
          "model_module": "@jupyter-widgets/controls",
          "model_name": "HBoxModel",
          "model_module_version": "1.5.0",
          "state": {
            "_dom_classes": [],
            "_model_module": "@jupyter-widgets/controls",
            "_model_module_version": "1.5.0",
            "_model_name": "HBoxModel",
            "_view_count": null,
            "_view_module": "@jupyter-widgets/controls",
            "_view_module_version": "1.5.0",
            "_view_name": "HBoxView",
            "box_style": "",
            "children": [
              "IPY_MODEL_fad958a4f111485f8a5ae8accea816f4",
              "IPY_MODEL_1edc597335094897a6a432b13f44db82",
              "IPY_MODEL_91c5fe60d4a145fb90d8719701de3728"
            ],
            "layout": "IPY_MODEL_8e97489f93294ad993b4a2d1491ebe50"
          }
        },
        "fad958a4f111485f8a5ae8accea816f4": {
          "model_module": "@jupyter-widgets/controls",
          "model_name": "HTMLModel",
          "model_module_version": "1.5.0",
          "state": {
            "_dom_classes": [],
            "_model_module": "@jupyter-widgets/controls",
            "_model_module_version": "1.5.0",
            "_model_name": "HTMLModel",
            "_view_count": null,
            "_view_module": "@jupyter-widgets/controls",
            "_view_module_version": "1.5.0",
            "_view_name": "HTMLView",
            "description": "",
            "description_tooltip": null,
            "layout": "IPY_MODEL_b3e433dd1fa34086896015875cf29dee",
            "placeholder": "​",
            "style": "IPY_MODEL_165645728793455792aa90c5fffd5a5a",
            "value": "100%"
          }
        },
        "1edc597335094897a6a432b13f44db82": {
          "model_module": "@jupyter-widgets/controls",
          "model_name": "FloatProgressModel",
          "model_module_version": "1.5.0",
          "state": {
            "_dom_classes": [],
            "_model_module": "@jupyter-widgets/controls",
            "_model_module_version": "1.5.0",
            "_model_name": "FloatProgressModel",
            "_view_count": null,
            "_view_module": "@jupyter-widgets/controls",
            "_view_module_version": "1.5.0",
            "_view_name": "ProgressView",
            "bar_style": "success",
            "description": "",
            "description_tooltip": null,
            "layout": "IPY_MODEL_a2a513dd29ec4656b4bbe948d7ac6416",
            "max": 36,
            "min": 0,
            "orientation": "horizontal",
            "style": "IPY_MODEL_93ef745b64bf45129fc28abdf910cb82",
            "value": 36
          }
        },
        "91c5fe60d4a145fb90d8719701de3728": {
          "model_module": "@jupyter-widgets/controls",
          "model_name": "HTMLModel",
          "model_module_version": "1.5.0",
          "state": {
            "_dom_classes": [],
            "_model_module": "@jupyter-widgets/controls",
            "_model_module_version": "1.5.0",
            "_model_name": "HTMLModel",
            "_view_count": null,
            "_view_module": "@jupyter-widgets/controls",
            "_view_module_version": "1.5.0",
            "_view_name": "HTMLView",
            "description": "",
            "description_tooltip": null,
            "layout": "IPY_MODEL_f3b9234579404872a9f7b1a4ba82be40",
            "placeholder": "​",
            "style": "IPY_MODEL_4605e0fc0ede461e8bf688d6abb4f636",
            "value": " 36/36 [02:00&lt;00:00,  1.90s/it]"
          }
        },
        "8e97489f93294ad993b4a2d1491ebe50": {
          "model_module": "@jupyter-widgets/base",
          "model_name": "LayoutModel",
          "model_module_version": "1.2.0",
          "state": {
            "_model_module": "@jupyter-widgets/base",
            "_model_module_version": "1.2.0",
            "_model_name": "LayoutModel",
            "_view_count": null,
            "_view_module": "@jupyter-widgets/base",
            "_view_module_version": "1.2.0",
            "_view_name": "LayoutView",
            "align_content": null,
            "align_items": null,
            "align_self": null,
            "border": null,
            "bottom": null,
            "display": null,
            "flex": null,
            "flex_flow": null,
            "grid_area": null,
            "grid_auto_columns": null,
            "grid_auto_flow": null,
            "grid_auto_rows": null,
            "grid_column": null,
            "grid_gap": null,
            "grid_row": null,
            "grid_template_areas": null,
            "grid_template_columns": null,
            "grid_template_rows": null,
            "height": null,
            "justify_content": null,
            "justify_items": null,
            "left": null,
            "margin": null,
            "max_height": null,
            "max_width": null,
            "min_height": null,
            "min_width": null,
            "object_fit": null,
            "object_position": null,
            "order": null,
            "overflow": null,
            "overflow_x": null,
            "overflow_y": null,
            "padding": null,
            "right": null,
            "top": null,
            "visibility": null,
            "width": null
          }
        },
        "b3e433dd1fa34086896015875cf29dee": {
          "model_module": "@jupyter-widgets/base",
          "model_name": "LayoutModel",
          "model_module_version": "1.2.0",
          "state": {
            "_model_module": "@jupyter-widgets/base",
            "_model_module_version": "1.2.0",
            "_model_name": "LayoutModel",
            "_view_count": null,
            "_view_module": "@jupyter-widgets/base",
            "_view_module_version": "1.2.0",
            "_view_name": "LayoutView",
            "align_content": null,
            "align_items": null,
            "align_self": null,
            "border": null,
            "bottom": null,
            "display": null,
            "flex": null,
            "flex_flow": null,
            "grid_area": null,
            "grid_auto_columns": null,
            "grid_auto_flow": null,
            "grid_auto_rows": null,
            "grid_column": null,
            "grid_gap": null,
            "grid_row": null,
            "grid_template_areas": null,
            "grid_template_columns": null,
            "grid_template_rows": null,
            "height": null,
            "justify_content": null,
            "justify_items": null,
            "left": null,
            "margin": null,
            "max_height": null,
            "max_width": null,
            "min_height": null,
            "min_width": null,
            "object_fit": null,
            "object_position": null,
            "order": null,
            "overflow": null,
            "overflow_x": null,
            "overflow_y": null,
            "padding": null,
            "right": null,
            "top": null,
            "visibility": null,
            "width": null
          }
        },
        "165645728793455792aa90c5fffd5a5a": {
          "model_module": "@jupyter-widgets/controls",
          "model_name": "DescriptionStyleModel",
          "model_module_version": "1.5.0",
          "state": {
            "_model_module": "@jupyter-widgets/controls",
            "_model_module_version": "1.5.0",
            "_model_name": "DescriptionStyleModel",
            "_view_count": null,
            "_view_module": "@jupyter-widgets/base",
            "_view_module_version": "1.2.0",
            "_view_name": "StyleView",
            "description_width": ""
          }
        },
        "a2a513dd29ec4656b4bbe948d7ac6416": {
          "model_module": "@jupyter-widgets/base",
          "model_name": "LayoutModel",
          "model_module_version": "1.2.0",
          "state": {
            "_model_module": "@jupyter-widgets/base",
            "_model_module_version": "1.2.0",
            "_model_name": "LayoutModel",
            "_view_count": null,
            "_view_module": "@jupyter-widgets/base",
            "_view_module_version": "1.2.0",
            "_view_name": "LayoutView",
            "align_content": null,
            "align_items": null,
            "align_self": null,
            "border": null,
            "bottom": null,
            "display": null,
            "flex": null,
            "flex_flow": null,
            "grid_area": null,
            "grid_auto_columns": null,
            "grid_auto_flow": null,
            "grid_auto_rows": null,
            "grid_column": null,
            "grid_gap": null,
            "grid_row": null,
            "grid_template_areas": null,
            "grid_template_columns": null,
            "grid_template_rows": null,
            "height": null,
            "justify_content": null,
            "justify_items": null,
            "left": null,
            "margin": null,
            "max_height": null,
            "max_width": null,
            "min_height": null,
            "min_width": null,
            "object_fit": null,
            "object_position": null,
            "order": null,
            "overflow": null,
            "overflow_x": null,
            "overflow_y": null,
            "padding": null,
            "right": null,
            "top": null,
            "visibility": null,
            "width": null
          }
        },
        "93ef745b64bf45129fc28abdf910cb82": {
          "model_module": "@jupyter-widgets/controls",
          "model_name": "ProgressStyleModel",
          "model_module_version": "1.5.0",
          "state": {
            "_model_module": "@jupyter-widgets/controls",
            "_model_module_version": "1.5.0",
            "_model_name": "ProgressStyleModel",
            "_view_count": null,
            "_view_module": "@jupyter-widgets/base",
            "_view_module_version": "1.2.0",
            "_view_name": "StyleView",
            "bar_color": null,
            "description_width": ""
          }
        },
        "f3b9234579404872a9f7b1a4ba82be40": {
          "model_module": "@jupyter-widgets/base",
          "model_name": "LayoutModel",
          "model_module_version": "1.2.0",
          "state": {
            "_model_module": "@jupyter-widgets/base",
            "_model_module_version": "1.2.0",
            "_model_name": "LayoutModel",
            "_view_count": null,
            "_view_module": "@jupyter-widgets/base",
            "_view_module_version": "1.2.0",
            "_view_name": "LayoutView",
            "align_content": null,
            "align_items": null,
            "align_self": null,
            "border": null,
            "bottom": null,
            "display": null,
            "flex": null,
            "flex_flow": null,
            "grid_area": null,
            "grid_auto_columns": null,
            "grid_auto_flow": null,
            "grid_auto_rows": null,
            "grid_column": null,
            "grid_gap": null,
            "grid_row": null,
            "grid_template_areas": null,
            "grid_template_columns": null,
            "grid_template_rows": null,
            "height": null,
            "justify_content": null,
            "justify_items": null,
            "left": null,
            "margin": null,
            "max_height": null,
            "max_width": null,
            "min_height": null,
            "min_width": null,
            "object_fit": null,
            "object_position": null,
            "order": null,
            "overflow": null,
            "overflow_x": null,
            "overflow_y": null,
            "padding": null,
            "right": null,
            "top": null,
            "visibility": null,
            "width": null
          }
        },
        "4605e0fc0ede461e8bf688d6abb4f636": {
          "model_module": "@jupyter-widgets/controls",
          "model_name": "DescriptionStyleModel",
          "model_module_version": "1.5.0",
          "state": {
            "_model_module": "@jupyter-widgets/controls",
            "_model_module_version": "1.5.0",
            "_model_name": "DescriptionStyleModel",
            "_view_count": null,
            "_view_module": "@jupyter-widgets/base",
            "_view_module_version": "1.2.0",
            "_view_name": "StyleView",
            "description_width": ""
          }
        },
        "809798d852244bc389d63bef52bac72c": {
          "model_module": "@jupyter-widgets/controls",
          "model_name": "HBoxModel",
          "model_module_version": "1.5.0",
          "state": {
            "_dom_classes": [],
            "_model_module": "@jupyter-widgets/controls",
            "_model_module_version": "1.5.0",
            "_model_name": "HBoxModel",
            "_view_count": null,
            "_view_module": "@jupyter-widgets/controls",
            "_view_module_version": "1.5.0",
            "_view_name": "HBoxView",
            "box_style": "",
            "children": [
              "IPY_MODEL_094c9a6da0ef4aff81a30676cb6b98af",
              "IPY_MODEL_a709e47005cb4323ac3210347250d2fe",
              "IPY_MODEL_c3add518fea5429e956c26cd7b25d82a"
            ],
            "layout": "IPY_MODEL_97bee76e894f4c0b98ed4fed54391bf7"
          }
        },
        "094c9a6da0ef4aff81a30676cb6b98af": {
          "model_module": "@jupyter-widgets/controls",
          "model_name": "HTMLModel",
          "model_module_version": "1.5.0",
          "state": {
            "_dom_classes": [],
            "_model_module": "@jupyter-widgets/controls",
            "_model_module_version": "1.5.0",
            "_model_name": "HTMLModel",
            "_view_count": null,
            "_view_module": "@jupyter-widgets/controls",
            "_view_module_version": "1.5.0",
            "_view_name": "HTMLView",
            "description": "",
            "description_tooltip": null,
            "layout": "IPY_MODEL_88bf5893f95740ae84061eef2859791e",
            "placeholder": "​",
            "style": "IPY_MODEL_645c1fc6380643cc969318779ea4811b",
            "value": "100%"
          }
        },
        "a709e47005cb4323ac3210347250d2fe": {
          "model_module": "@jupyter-widgets/controls",
          "model_name": "FloatProgressModel",
          "model_module_version": "1.5.0",
          "state": {
            "_dom_classes": [],
            "_model_module": "@jupyter-widgets/controls",
            "_model_module_version": "1.5.0",
            "_model_name": "FloatProgressModel",
            "_view_count": null,
            "_view_module": "@jupyter-widgets/controls",
            "_view_module_version": "1.5.0",
            "_view_name": "ProgressView",
            "bar_style": "success",
            "description": "",
            "description_tooltip": null,
            "layout": "IPY_MODEL_d50195e87491445c83766959c0ae9a47",
            "max": 36,
            "min": 0,
            "orientation": "horizontal",
            "style": "IPY_MODEL_ed9ee8efbc5e496aa5dffc87ab383d94",
            "value": 36
          }
        },
        "c3add518fea5429e956c26cd7b25d82a": {
          "model_module": "@jupyter-widgets/controls",
          "model_name": "HTMLModel",
          "model_module_version": "1.5.0",
          "state": {
            "_dom_classes": [],
            "_model_module": "@jupyter-widgets/controls",
            "_model_module_version": "1.5.0",
            "_model_name": "HTMLModel",
            "_view_count": null,
            "_view_module": "@jupyter-widgets/controls",
            "_view_module_version": "1.5.0",
            "_view_name": "HTMLView",
            "description": "",
            "description_tooltip": null,
            "layout": "IPY_MODEL_3b850802a49e439194597b66825df776",
            "placeholder": "​",
            "style": "IPY_MODEL_c148e3db3ad94bf38089599389340173",
            "value": " 36/36 [02:03&lt;00:00,  1.93s/it]"
          }
        },
        "97bee76e894f4c0b98ed4fed54391bf7": {
          "model_module": "@jupyter-widgets/base",
          "model_name": "LayoutModel",
          "model_module_version": "1.2.0",
          "state": {
            "_model_module": "@jupyter-widgets/base",
            "_model_module_version": "1.2.0",
            "_model_name": "LayoutModel",
            "_view_count": null,
            "_view_module": "@jupyter-widgets/base",
            "_view_module_version": "1.2.0",
            "_view_name": "LayoutView",
            "align_content": null,
            "align_items": null,
            "align_self": null,
            "border": null,
            "bottom": null,
            "display": null,
            "flex": null,
            "flex_flow": null,
            "grid_area": null,
            "grid_auto_columns": null,
            "grid_auto_flow": null,
            "grid_auto_rows": null,
            "grid_column": null,
            "grid_gap": null,
            "grid_row": null,
            "grid_template_areas": null,
            "grid_template_columns": null,
            "grid_template_rows": null,
            "height": null,
            "justify_content": null,
            "justify_items": null,
            "left": null,
            "margin": null,
            "max_height": null,
            "max_width": null,
            "min_height": null,
            "min_width": null,
            "object_fit": null,
            "object_position": null,
            "order": null,
            "overflow": null,
            "overflow_x": null,
            "overflow_y": null,
            "padding": null,
            "right": null,
            "top": null,
            "visibility": null,
            "width": null
          }
        },
        "88bf5893f95740ae84061eef2859791e": {
          "model_module": "@jupyter-widgets/base",
          "model_name": "LayoutModel",
          "model_module_version": "1.2.0",
          "state": {
            "_model_module": "@jupyter-widgets/base",
            "_model_module_version": "1.2.0",
            "_model_name": "LayoutModel",
            "_view_count": null,
            "_view_module": "@jupyter-widgets/base",
            "_view_module_version": "1.2.0",
            "_view_name": "LayoutView",
            "align_content": null,
            "align_items": null,
            "align_self": null,
            "border": null,
            "bottom": null,
            "display": null,
            "flex": null,
            "flex_flow": null,
            "grid_area": null,
            "grid_auto_columns": null,
            "grid_auto_flow": null,
            "grid_auto_rows": null,
            "grid_column": null,
            "grid_gap": null,
            "grid_row": null,
            "grid_template_areas": null,
            "grid_template_columns": null,
            "grid_template_rows": null,
            "height": null,
            "justify_content": null,
            "justify_items": null,
            "left": null,
            "margin": null,
            "max_height": null,
            "max_width": null,
            "min_height": null,
            "min_width": null,
            "object_fit": null,
            "object_position": null,
            "order": null,
            "overflow": null,
            "overflow_x": null,
            "overflow_y": null,
            "padding": null,
            "right": null,
            "top": null,
            "visibility": null,
            "width": null
          }
        },
        "645c1fc6380643cc969318779ea4811b": {
          "model_module": "@jupyter-widgets/controls",
          "model_name": "DescriptionStyleModel",
          "model_module_version": "1.5.0",
          "state": {
            "_model_module": "@jupyter-widgets/controls",
            "_model_module_version": "1.5.0",
            "_model_name": "DescriptionStyleModel",
            "_view_count": null,
            "_view_module": "@jupyter-widgets/base",
            "_view_module_version": "1.2.0",
            "_view_name": "StyleView",
            "description_width": ""
          }
        },
        "d50195e87491445c83766959c0ae9a47": {
          "model_module": "@jupyter-widgets/base",
          "model_name": "LayoutModel",
          "model_module_version": "1.2.0",
          "state": {
            "_model_module": "@jupyter-widgets/base",
            "_model_module_version": "1.2.0",
            "_model_name": "LayoutModel",
            "_view_count": null,
            "_view_module": "@jupyter-widgets/base",
            "_view_module_version": "1.2.0",
            "_view_name": "LayoutView",
            "align_content": null,
            "align_items": null,
            "align_self": null,
            "border": null,
            "bottom": null,
            "display": null,
            "flex": null,
            "flex_flow": null,
            "grid_area": null,
            "grid_auto_columns": null,
            "grid_auto_flow": null,
            "grid_auto_rows": null,
            "grid_column": null,
            "grid_gap": null,
            "grid_row": null,
            "grid_template_areas": null,
            "grid_template_columns": null,
            "grid_template_rows": null,
            "height": null,
            "justify_content": null,
            "justify_items": null,
            "left": null,
            "margin": null,
            "max_height": null,
            "max_width": null,
            "min_height": null,
            "min_width": null,
            "object_fit": null,
            "object_position": null,
            "order": null,
            "overflow": null,
            "overflow_x": null,
            "overflow_y": null,
            "padding": null,
            "right": null,
            "top": null,
            "visibility": null,
            "width": null
          }
        },
        "ed9ee8efbc5e496aa5dffc87ab383d94": {
          "model_module": "@jupyter-widgets/controls",
          "model_name": "ProgressStyleModel",
          "model_module_version": "1.5.0",
          "state": {
            "_model_module": "@jupyter-widgets/controls",
            "_model_module_version": "1.5.0",
            "_model_name": "ProgressStyleModel",
            "_view_count": null,
            "_view_module": "@jupyter-widgets/base",
            "_view_module_version": "1.2.0",
            "_view_name": "StyleView",
            "bar_color": null,
            "description_width": ""
          }
        },
        "3b850802a49e439194597b66825df776": {
          "model_module": "@jupyter-widgets/base",
          "model_name": "LayoutModel",
          "model_module_version": "1.2.0",
          "state": {
            "_model_module": "@jupyter-widgets/base",
            "_model_module_version": "1.2.0",
            "_model_name": "LayoutModel",
            "_view_count": null,
            "_view_module": "@jupyter-widgets/base",
            "_view_module_version": "1.2.0",
            "_view_name": "LayoutView",
            "align_content": null,
            "align_items": null,
            "align_self": null,
            "border": null,
            "bottom": null,
            "display": null,
            "flex": null,
            "flex_flow": null,
            "grid_area": null,
            "grid_auto_columns": null,
            "grid_auto_flow": null,
            "grid_auto_rows": null,
            "grid_column": null,
            "grid_gap": null,
            "grid_row": null,
            "grid_template_areas": null,
            "grid_template_columns": null,
            "grid_template_rows": null,
            "height": null,
            "justify_content": null,
            "justify_items": null,
            "left": null,
            "margin": null,
            "max_height": null,
            "max_width": null,
            "min_height": null,
            "min_width": null,
            "object_fit": null,
            "object_position": null,
            "order": null,
            "overflow": null,
            "overflow_x": null,
            "overflow_y": null,
            "padding": null,
            "right": null,
            "top": null,
            "visibility": null,
            "width": null
          }
        },
        "c148e3db3ad94bf38089599389340173": {
          "model_module": "@jupyter-widgets/controls",
          "model_name": "DescriptionStyleModel",
          "model_module_version": "1.5.0",
          "state": {
            "_model_module": "@jupyter-widgets/controls",
            "_model_module_version": "1.5.0",
            "_model_name": "DescriptionStyleModel",
            "_view_count": null,
            "_view_module": "@jupyter-widgets/base",
            "_view_module_version": "1.2.0",
            "_view_name": "StyleView",
            "description_width": ""
          }
        },
        "f755ea3d21774d58b0c8a4a40430115e": {
          "model_module": "@jupyter-widgets/controls",
          "model_name": "HBoxModel",
          "model_module_version": "1.5.0",
          "state": {
            "_dom_classes": [],
            "_model_module": "@jupyter-widgets/controls",
            "_model_module_version": "1.5.0",
            "_model_name": "HBoxModel",
            "_view_count": null,
            "_view_module": "@jupyter-widgets/controls",
            "_view_module_version": "1.5.0",
            "_view_name": "HBoxView",
            "box_style": "",
            "children": [
              "IPY_MODEL_6353c20d554e4ba8b027dc6d40d2cd47",
              "IPY_MODEL_518b49abd19b448f9ca5f2438868b5c2",
              "IPY_MODEL_539651c71cbb4f2eaab414329e7b31e4"
            ],
            "layout": "IPY_MODEL_95b950802bb84ce79e8b4714ebc63a79"
          }
        },
        "6353c20d554e4ba8b027dc6d40d2cd47": {
          "model_module": "@jupyter-widgets/controls",
          "model_name": "HTMLModel",
          "model_module_version": "1.5.0",
          "state": {
            "_dom_classes": [],
            "_model_module": "@jupyter-widgets/controls",
            "_model_module_version": "1.5.0",
            "_model_name": "HTMLModel",
            "_view_count": null,
            "_view_module": "@jupyter-widgets/controls",
            "_view_module_version": "1.5.0",
            "_view_name": "HTMLView",
            "description": "",
            "description_tooltip": null,
            "layout": "IPY_MODEL_910cd92090e747b38029c0a5c211c64d",
            "placeholder": "​",
            "style": "IPY_MODEL_1bb2b90dba574492895958843103ddaa",
            "value": "100%"
          }
        },
        "518b49abd19b448f9ca5f2438868b5c2": {
          "model_module": "@jupyter-widgets/controls",
          "model_name": "FloatProgressModel",
          "model_module_version": "1.5.0",
          "state": {
            "_dom_classes": [],
            "_model_module": "@jupyter-widgets/controls",
            "_model_module_version": "1.5.0",
            "_model_name": "FloatProgressModel",
            "_view_count": null,
            "_view_module": "@jupyter-widgets/controls",
            "_view_module_version": "1.5.0",
            "_view_name": "ProgressView",
            "bar_style": "success",
            "description": "",
            "description_tooltip": null,
            "layout": "IPY_MODEL_87d8a544c7d64cd8a1aa3b0e8dffb8a3",
            "max": 36,
            "min": 0,
            "orientation": "horizontal",
            "style": "IPY_MODEL_fe77fe9b82c04d7d9892e4cd7c1c8670",
            "value": 36
          }
        },
        "539651c71cbb4f2eaab414329e7b31e4": {
          "model_module": "@jupyter-widgets/controls",
          "model_name": "HTMLModel",
          "model_module_version": "1.5.0",
          "state": {
            "_dom_classes": [],
            "_model_module": "@jupyter-widgets/controls",
            "_model_module_version": "1.5.0",
            "_model_name": "HTMLModel",
            "_view_count": null,
            "_view_module": "@jupyter-widgets/controls",
            "_view_module_version": "1.5.0",
            "_view_name": "HTMLView",
            "description": "",
            "description_tooltip": null,
            "layout": "IPY_MODEL_dca58a9fa4db47939ac9f52d3b6cb3b0",
            "placeholder": "​",
            "style": "IPY_MODEL_3e49861b80bc4698b2907d524d665c27",
            "value": " 36/36 [01:58&lt;00:00,  1.89s/it]"
          }
        },
        "95b950802bb84ce79e8b4714ebc63a79": {
          "model_module": "@jupyter-widgets/base",
          "model_name": "LayoutModel",
          "model_module_version": "1.2.0",
          "state": {
            "_model_module": "@jupyter-widgets/base",
            "_model_module_version": "1.2.0",
            "_model_name": "LayoutModel",
            "_view_count": null,
            "_view_module": "@jupyter-widgets/base",
            "_view_module_version": "1.2.0",
            "_view_name": "LayoutView",
            "align_content": null,
            "align_items": null,
            "align_self": null,
            "border": null,
            "bottom": null,
            "display": null,
            "flex": null,
            "flex_flow": null,
            "grid_area": null,
            "grid_auto_columns": null,
            "grid_auto_flow": null,
            "grid_auto_rows": null,
            "grid_column": null,
            "grid_gap": null,
            "grid_row": null,
            "grid_template_areas": null,
            "grid_template_columns": null,
            "grid_template_rows": null,
            "height": null,
            "justify_content": null,
            "justify_items": null,
            "left": null,
            "margin": null,
            "max_height": null,
            "max_width": null,
            "min_height": null,
            "min_width": null,
            "object_fit": null,
            "object_position": null,
            "order": null,
            "overflow": null,
            "overflow_x": null,
            "overflow_y": null,
            "padding": null,
            "right": null,
            "top": null,
            "visibility": null,
            "width": null
          }
        },
        "910cd92090e747b38029c0a5c211c64d": {
          "model_module": "@jupyter-widgets/base",
          "model_name": "LayoutModel",
          "model_module_version": "1.2.0",
          "state": {
            "_model_module": "@jupyter-widgets/base",
            "_model_module_version": "1.2.0",
            "_model_name": "LayoutModel",
            "_view_count": null,
            "_view_module": "@jupyter-widgets/base",
            "_view_module_version": "1.2.0",
            "_view_name": "LayoutView",
            "align_content": null,
            "align_items": null,
            "align_self": null,
            "border": null,
            "bottom": null,
            "display": null,
            "flex": null,
            "flex_flow": null,
            "grid_area": null,
            "grid_auto_columns": null,
            "grid_auto_flow": null,
            "grid_auto_rows": null,
            "grid_column": null,
            "grid_gap": null,
            "grid_row": null,
            "grid_template_areas": null,
            "grid_template_columns": null,
            "grid_template_rows": null,
            "height": null,
            "justify_content": null,
            "justify_items": null,
            "left": null,
            "margin": null,
            "max_height": null,
            "max_width": null,
            "min_height": null,
            "min_width": null,
            "object_fit": null,
            "object_position": null,
            "order": null,
            "overflow": null,
            "overflow_x": null,
            "overflow_y": null,
            "padding": null,
            "right": null,
            "top": null,
            "visibility": null,
            "width": null
          }
        },
        "1bb2b90dba574492895958843103ddaa": {
          "model_module": "@jupyter-widgets/controls",
          "model_name": "DescriptionStyleModel",
          "model_module_version": "1.5.0",
          "state": {
            "_model_module": "@jupyter-widgets/controls",
            "_model_module_version": "1.5.0",
            "_model_name": "DescriptionStyleModel",
            "_view_count": null,
            "_view_module": "@jupyter-widgets/base",
            "_view_module_version": "1.2.0",
            "_view_name": "StyleView",
            "description_width": ""
          }
        },
        "87d8a544c7d64cd8a1aa3b0e8dffb8a3": {
          "model_module": "@jupyter-widgets/base",
          "model_name": "LayoutModel",
          "model_module_version": "1.2.0",
          "state": {
            "_model_module": "@jupyter-widgets/base",
            "_model_module_version": "1.2.0",
            "_model_name": "LayoutModel",
            "_view_count": null,
            "_view_module": "@jupyter-widgets/base",
            "_view_module_version": "1.2.0",
            "_view_name": "LayoutView",
            "align_content": null,
            "align_items": null,
            "align_self": null,
            "border": null,
            "bottom": null,
            "display": null,
            "flex": null,
            "flex_flow": null,
            "grid_area": null,
            "grid_auto_columns": null,
            "grid_auto_flow": null,
            "grid_auto_rows": null,
            "grid_column": null,
            "grid_gap": null,
            "grid_row": null,
            "grid_template_areas": null,
            "grid_template_columns": null,
            "grid_template_rows": null,
            "height": null,
            "justify_content": null,
            "justify_items": null,
            "left": null,
            "margin": null,
            "max_height": null,
            "max_width": null,
            "min_height": null,
            "min_width": null,
            "object_fit": null,
            "object_position": null,
            "order": null,
            "overflow": null,
            "overflow_x": null,
            "overflow_y": null,
            "padding": null,
            "right": null,
            "top": null,
            "visibility": null,
            "width": null
          }
        },
        "fe77fe9b82c04d7d9892e4cd7c1c8670": {
          "model_module": "@jupyter-widgets/controls",
          "model_name": "ProgressStyleModel",
          "model_module_version": "1.5.0",
          "state": {
            "_model_module": "@jupyter-widgets/controls",
            "_model_module_version": "1.5.0",
            "_model_name": "ProgressStyleModel",
            "_view_count": null,
            "_view_module": "@jupyter-widgets/base",
            "_view_module_version": "1.2.0",
            "_view_name": "StyleView",
            "bar_color": null,
            "description_width": ""
          }
        },
        "dca58a9fa4db47939ac9f52d3b6cb3b0": {
          "model_module": "@jupyter-widgets/base",
          "model_name": "LayoutModel",
          "model_module_version": "1.2.0",
          "state": {
            "_model_module": "@jupyter-widgets/base",
            "_model_module_version": "1.2.0",
            "_model_name": "LayoutModel",
            "_view_count": null,
            "_view_module": "@jupyter-widgets/base",
            "_view_module_version": "1.2.0",
            "_view_name": "LayoutView",
            "align_content": null,
            "align_items": null,
            "align_self": null,
            "border": null,
            "bottom": null,
            "display": null,
            "flex": null,
            "flex_flow": null,
            "grid_area": null,
            "grid_auto_columns": null,
            "grid_auto_flow": null,
            "grid_auto_rows": null,
            "grid_column": null,
            "grid_gap": null,
            "grid_row": null,
            "grid_template_areas": null,
            "grid_template_columns": null,
            "grid_template_rows": null,
            "height": null,
            "justify_content": null,
            "justify_items": null,
            "left": null,
            "margin": null,
            "max_height": null,
            "max_width": null,
            "min_height": null,
            "min_width": null,
            "object_fit": null,
            "object_position": null,
            "order": null,
            "overflow": null,
            "overflow_x": null,
            "overflow_y": null,
            "padding": null,
            "right": null,
            "top": null,
            "visibility": null,
            "width": null
          }
        },
        "3e49861b80bc4698b2907d524d665c27": {
          "model_module": "@jupyter-widgets/controls",
          "model_name": "DescriptionStyleModel",
          "model_module_version": "1.5.0",
          "state": {
            "_model_module": "@jupyter-widgets/controls",
            "_model_module_version": "1.5.0",
            "_model_name": "DescriptionStyleModel",
            "_view_count": null,
            "_view_module": "@jupyter-widgets/base",
            "_view_module_version": "1.2.0",
            "_view_name": "StyleView",
            "description_width": ""
          }
        },
        "2964d49cd621449e9dbe4673cc245c4f": {
          "model_module": "@jupyter-widgets/controls",
          "model_name": "HBoxModel",
          "model_module_version": "1.5.0",
          "state": {
            "_dom_classes": [],
            "_model_module": "@jupyter-widgets/controls",
            "_model_module_version": "1.5.0",
            "_model_name": "HBoxModel",
            "_view_count": null,
            "_view_module": "@jupyter-widgets/controls",
            "_view_module_version": "1.5.0",
            "_view_name": "HBoxView",
            "box_style": "",
            "children": [
              "IPY_MODEL_769573d5b9704d609389c7a112cc78b8",
              "IPY_MODEL_63a4b86e03014ebfb2a543b6118999aa",
              "IPY_MODEL_61b4760708654651b167f59619d58582"
            ],
            "layout": "IPY_MODEL_9032721dff77464a8a4c44bfed642f3d"
          }
        },
        "769573d5b9704d609389c7a112cc78b8": {
          "model_module": "@jupyter-widgets/controls",
          "model_name": "HTMLModel",
          "model_module_version": "1.5.0",
          "state": {
            "_dom_classes": [],
            "_model_module": "@jupyter-widgets/controls",
            "_model_module_version": "1.5.0",
            "_model_name": "HTMLModel",
            "_view_count": null,
            "_view_module": "@jupyter-widgets/controls",
            "_view_module_version": "1.5.0",
            "_view_name": "HTMLView",
            "description": "",
            "description_tooltip": null,
            "layout": "IPY_MODEL_a3d8448b3b994403be4f64964bb1701c",
            "placeholder": "​",
            "style": "IPY_MODEL_e556fef67fb041e1accb1d76144c85d3",
            "value": "100%"
          }
        },
        "63a4b86e03014ebfb2a543b6118999aa": {
          "model_module": "@jupyter-widgets/controls",
          "model_name": "FloatProgressModel",
          "model_module_version": "1.5.0",
          "state": {
            "_dom_classes": [],
            "_model_module": "@jupyter-widgets/controls",
            "_model_module_version": "1.5.0",
            "_model_name": "FloatProgressModel",
            "_view_count": null,
            "_view_module": "@jupyter-widgets/controls",
            "_view_module_version": "1.5.0",
            "_view_name": "ProgressView",
            "bar_style": "success",
            "description": "",
            "description_tooltip": null,
            "layout": "IPY_MODEL_99d09042e180420fae603b8795e9dcae",
            "max": 36,
            "min": 0,
            "orientation": "horizontal",
            "style": "IPY_MODEL_89e1aef21fe547708eb9b6f76f9295e4",
            "value": 36
          }
        },
        "61b4760708654651b167f59619d58582": {
          "model_module": "@jupyter-widgets/controls",
          "model_name": "HTMLModel",
          "model_module_version": "1.5.0",
          "state": {
            "_dom_classes": [],
            "_model_module": "@jupyter-widgets/controls",
            "_model_module_version": "1.5.0",
            "_model_name": "HTMLModel",
            "_view_count": null,
            "_view_module": "@jupyter-widgets/controls",
            "_view_module_version": "1.5.0",
            "_view_name": "HTMLView",
            "description": "",
            "description_tooltip": null,
            "layout": "IPY_MODEL_3ccd1827d7b84e958566094d285b64cc",
            "placeholder": "​",
            "style": "IPY_MODEL_a46834aa21d64930869f21e9758b5ac6",
            "value": " 36/36 [01:58&lt;00:00,  1.94s/it]"
          }
        },
        "9032721dff77464a8a4c44bfed642f3d": {
          "model_module": "@jupyter-widgets/base",
          "model_name": "LayoutModel",
          "model_module_version": "1.2.0",
          "state": {
            "_model_module": "@jupyter-widgets/base",
            "_model_module_version": "1.2.0",
            "_model_name": "LayoutModel",
            "_view_count": null,
            "_view_module": "@jupyter-widgets/base",
            "_view_module_version": "1.2.0",
            "_view_name": "LayoutView",
            "align_content": null,
            "align_items": null,
            "align_self": null,
            "border": null,
            "bottom": null,
            "display": null,
            "flex": null,
            "flex_flow": null,
            "grid_area": null,
            "grid_auto_columns": null,
            "grid_auto_flow": null,
            "grid_auto_rows": null,
            "grid_column": null,
            "grid_gap": null,
            "grid_row": null,
            "grid_template_areas": null,
            "grid_template_columns": null,
            "grid_template_rows": null,
            "height": null,
            "justify_content": null,
            "justify_items": null,
            "left": null,
            "margin": null,
            "max_height": null,
            "max_width": null,
            "min_height": null,
            "min_width": null,
            "object_fit": null,
            "object_position": null,
            "order": null,
            "overflow": null,
            "overflow_x": null,
            "overflow_y": null,
            "padding": null,
            "right": null,
            "top": null,
            "visibility": null,
            "width": null
          }
        },
        "a3d8448b3b994403be4f64964bb1701c": {
          "model_module": "@jupyter-widgets/base",
          "model_name": "LayoutModel",
          "model_module_version": "1.2.0",
          "state": {
            "_model_module": "@jupyter-widgets/base",
            "_model_module_version": "1.2.0",
            "_model_name": "LayoutModel",
            "_view_count": null,
            "_view_module": "@jupyter-widgets/base",
            "_view_module_version": "1.2.0",
            "_view_name": "LayoutView",
            "align_content": null,
            "align_items": null,
            "align_self": null,
            "border": null,
            "bottom": null,
            "display": null,
            "flex": null,
            "flex_flow": null,
            "grid_area": null,
            "grid_auto_columns": null,
            "grid_auto_flow": null,
            "grid_auto_rows": null,
            "grid_column": null,
            "grid_gap": null,
            "grid_row": null,
            "grid_template_areas": null,
            "grid_template_columns": null,
            "grid_template_rows": null,
            "height": null,
            "justify_content": null,
            "justify_items": null,
            "left": null,
            "margin": null,
            "max_height": null,
            "max_width": null,
            "min_height": null,
            "min_width": null,
            "object_fit": null,
            "object_position": null,
            "order": null,
            "overflow": null,
            "overflow_x": null,
            "overflow_y": null,
            "padding": null,
            "right": null,
            "top": null,
            "visibility": null,
            "width": null
          }
        },
        "e556fef67fb041e1accb1d76144c85d3": {
          "model_module": "@jupyter-widgets/controls",
          "model_name": "DescriptionStyleModel",
          "model_module_version": "1.5.0",
          "state": {
            "_model_module": "@jupyter-widgets/controls",
            "_model_module_version": "1.5.0",
            "_model_name": "DescriptionStyleModel",
            "_view_count": null,
            "_view_module": "@jupyter-widgets/base",
            "_view_module_version": "1.2.0",
            "_view_name": "StyleView",
            "description_width": ""
          }
        },
        "99d09042e180420fae603b8795e9dcae": {
          "model_module": "@jupyter-widgets/base",
          "model_name": "LayoutModel",
          "model_module_version": "1.2.0",
          "state": {
            "_model_module": "@jupyter-widgets/base",
            "_model_module_version": "1.2.0",
            "_model_name": "LayoutModel",
            "_view_count": null,
            "_view_module": "@jupyter-widgets/base",
            "_view_module_version": "1.2.0",
            "_view_name": "LayoutView",
            "align_content": null,
            "align_items": null,
            "align_self": null,
            "border": null,
            "bottom": null,
            "display": null,
            "flex": null,
            "flex_flow": null,
            "grid_area": null,
            "grid_auto_columns": null,
            "grid_auto_flow": null,
            "grid_auto_rows": null,
            "grid_column": null,
            "grid_gap": null,
            "grid_row": null,
            "grid_template_areas": null,
            "grid_template_columns": null,
            "grid_template_rows": null,
            "height": null,
            "justify_content": null,
            "justify_items": null,
            "left": null,
            "margin": null,
            "max_height": null,
            "max_width": null,
            "min_height": null,
            "min_width": null,
            "object_fit": null,
            "object_position": null,
            "order": null,
            "overflow": null,
            "overflow_x": null,
            "overflow_y": null,
            "padding": null,
            "right": null,
            "top": null,
            "visibility": null,
            "width": null
          }
        },
        "89e1aef21fe547708eb9b6f76f9295e4": {
          "model_module": "@jupyter-widgets/controls",
          "model_name": "ProgressStyleModel",
          "model_module_version": "1.5.0",
          "state": {
            "_model_module": "@jupyter-widgets/controls",
            "_model_module_version": "1.5.0",
            "_model_name": "ProgressStyleModel",
            "_view_count": null,
            "_view_module": "@jupyter-widgets/base",
            "_view_module_version": "1.2.0",
            "_view_name": "StyleView",
            "bar_color": null,
            "description_width": ""
          }
        },
        "3ccd1827d7b84e958566094d285b64cc": {
          "model_module": "@jupyter-widgets/base",
          "model_name": "LayoutModel",
          "model_module_version": "1.2.0",
          "state": {
            "_model_module": "@jupyter-widgets/base",
            "_model_module_version": "1.2.0",
            "_model_name": "LayoutModel",
            "_view_count": null,
            "_view_module": "@jupyter-widgets/base",
            "_view_module_version": "1.2.0",
            "_view_name": "LayoutView",
            "align_content": null,
            "align_items": null,
            "align_self": null,
            "border": null,
            "bottom": null,
            "display": null,
            "flex": null,
            "flex_flow": null,
            "grid_area": null,
            "grid_auto_columns": null,
            "grid_auto_flow": null,
            "grid_auto_rows": null,
            "grid_column": null,
            "grid_gap": null,
            "grid_row": null,
            "grid_template_areas": null,
            "grid_template_columns": null,
            "grid_template_rows": null,
            "height": null,
            "justify_content": null,
            "justify_items": null,
            "left": null,
            "margin": null,
            "max_height": null,
            "max_width": null,
            "min_height": null,
            "min_width": null,
            "object_fit": null,
            "object_position": null,
            "order": null,
            "overflow": null,
            "overflow_x": null,
            "overflow_y": null,
            "padding": null,
            "right": null,
            "top": null,
            "visibility": null,
            "width": null
          }
        },
        "a46834aa21d64930869f21e9758b5ac6": {
          "model_module": "@jupyter-widgets/controls",
          "model_name": "DescriptionStyleModel",
          "model_module_version": "1.5.0",
          "state": {
            "_model_module": "@jupyter-widgets/controls",
            "_model_module_version": "1.5.0",
            "_model_name": "DescriptionStyleModel",
            "_view_count": null,
            "_view_module": "@jupyter-widgets/base",
            "_view_module_version": "1.2.0",
            "_view_name": "StyleView",
            "description_width": ""
          }
        },
        "0f5eab1cce384f9691c614c904ddbc08": {
          "model_module": "@jupyter-widgets/controls",
          "model_name": "HBoxModel",
          "model_module_version": "1.5.0",
          "state": {
            "_dom_classes": [],
            "_model_module": "@jupyter-widgets/controls",
            "_model_module_version": "1.5.0",
            "_model_name": "HBoxModel",
            "_view_count": null,
            "_view_module": "@jupyter-widgets/controls",
            "_view_module_version": "1.5.0",
            "_view_name": "HBoxView",
            "box_style": "",
            "children": [
              "IPY_MODEL_b787e3b76a984aa09ff9163479dd9fc1",
              "IPY_MODEL_2e2127feacb345758e215551d7b021a8",
              "IPY_MODEL_2bfbd01ffd834adc92b2220e82260ae5"
            ],
            "layout": "IPY_MODEL_e8e8c8c86b48483a854b4e3df1c8e62f"
          }
        },
        "b787e3b76a984aa09ff9163479dd9fc1": {
          "model_module": "@jupyter-widgets/controls",
          "model_name": "HTMLModel",
          "model_module_version": "1.5.0",
          "state": {
            "_dom_classes": [],
            "_model_module": "@jupyter-widgets/controls",
            "_model_module_version": "1.5.0",
            "_model_name": "HTMLModel",
            "_view_count": null,
            "_view_module": "@jupyter-widgets/controls",
            "_view_module_version": "1.5.0",
            "_view_name": "HTMLView",
            "description": "",
            "description_tooltip": null,
            "layout": "IPY_MODEL_883dd57e4c6f4a25a2e8c06f07343b5e",
            "placeholder": "​",
            "style": "IPY_MODEL_f42718b67a114c77b0dd12b1a32a62b2",
            "value": "100%"
          }
        },
        "2e2127feacb345758e215551d7b021a8": {
          "model_module": "@jupyter-widgets/controls",
          "model_name": "FloatProgressModel",
          "model_module_version": "1.5.0",
          "state": {
            "_dom_classes": [],
            "_model_module": "@jupyter-widgets/controls",
            "_model_module_version": "1.5.0",
            "_model_name": "FloatProgressModel",
            "_view_count": null,
            "_view_module": "@jupyter-widgets/controls",
            "_view_module_version": "1.5.0",
            "_view_name": "ProgressView",
            "bar_style": "success",
            "description": "",
            "description_tooltip": null,
            "layout": "IPY_MODEL_d1a8846e11834db283349da5718a957a",
            "max": 36,
            "min": 0,
            "orientation": "horizontal",
            "style": "IPY_MODEL_366812ed1ae14985af4b3aeac5bc307b",
            "value": 36
          }
        },
        "2bfbd01ffd834adc92b2220e82260ae5": {
          "model_module": "@jupyter-widgets/controls",
          "model_name": "HTMLModel",
          "model_module_version": "1.5.0",
          "state": {
            "_dom_classes": [],
            "_model_module": "@jupyter-widgets/controls",
            "_model_module_version": "1.5.0",
            "_model_name": "HTMLModel",
            "_view_count": null,
            "_view_module": "@jupyter-widgets/controls",
            "_view_module_version": "1.5.0",
            "_view_name": "HTMLView",
            "description": "",
            "description_tooltip": null,
            "layout": "IPY_MODEL_4ce84dd3f4334d9a8e22031b415e38a3",
            "placeholder": "​",
            "style": "IPY_MODEL_d1f6049ac2db4c3dbc63b63148fc4333",
            "value": " 36/36 [01:58&lt;00:00,  1.91s/it]"
          }
        },
        "e8e8c8c86b48483a854b4e3df1c8e62f": {
          "model_module": "@jupyter-widgets/base",
          "model_name": "LayoutModel",
          "model_module_version": "1.2.0",
          "state": {
            "_model_module": "@jupyter-widgets/base",
            "_model_module_version": "1.2.0",
            "_model_name": "LayoutModel",
            "_view_count": null,
            "_view_module": "@jupyter-widgets/base",
            "_view_module_version": "1.2.0",
            "_view_name": "LayoutView",
            "align_content": null,
            "align_items": null,
            "align_self": null,
            "border": null,
            "bottom": null,
            "display": null,
            "flex": null,
            "flex_flow": null,
            "grid_area": null,
            "grid_auto_columns": null,
            "grid_auto_flow": null,
            "grid_auto_rows": null,
            "grid_column": null,
            "grid_gap": null,
            "grid_row": null,
            "grid_template_areas": null,
            "grid_template_columns": null,
            "grid_template_rows": null,
            "height": null,
            "justify_content": null,
            "justify_items": null,
            "left": null,
            "margin": null,
            "max_height": null,
            "max_width": null,
            "min_height": null,
            "min_width": null,
            "object_fit": null,
            "object_position": null,
            "order": null,
            "overflow": null,
            "overflow_x": null,
            "overflow_y": null,
            "padding": null,
            "right": null,
            "top": null,
            "visibility": null,
            "width": null
          }
        },
        "883dd57e4c6f4a25a2e8c06f07343b5e": {
          "model_module": "@jupyter-widgets/base",
          "model_name": "LayoutModel",
          "model_module_version": "1.2.0",
          "state": {
            "_model_module": "@jupyter-widgets/base",
            "_model_module_version": "1.2.0",
            "_model_name": "LayoutModel",
            "_view_count": null,
            "_view_module": "@jupyter-widgets/base",
            "_view_module_version": "1.2.0",
            "_view_name": "LayoutView",
            "align_content": null,
            "align_items": null,
            "align_self": null,
            "border": null,
            "bottom": null,
            "display": null,
            "flex": null,
            "flex_flow": null,
            "grid_area": null,
            "grid_auto_columns": null,
            "grid_auto_flow": null,
            "grid_auto_rows": null,
            "grid_column": null,
            "grid_gap": null,
            "grid_row": null,
            "grid_template_areas": null,
            "grid_template_columns": null,
            "grid_template_rows": null,
            "height": null,
            "justify_content": null,
            "justify_items": null,
            "left": null,
            "margin": null,
            "max_height": null,
            "max_width": null,
            "min_height": null,
            "min_width": null,
            "object_fit": null,
            "object_position": null,
            "order": null,
            "overflow": null,
            "overflow_x": null,
            "overflow_y": null,
            "padding": null,
            "right": null,
            "top": null,
            "visibility": null,
            "width": null
          }
        },
        "f42718b67a114c77b0dd12b1a32a62b2": {
          "model_module": "@jupyter-widgets/controls",
          "model_name": "DescriptionStyleModel",
          "model_module_version": "1.5.0",
          "state": {
            "_model_module": "@jupyter-widgets/controls",
            "_model_module_version": "1.5.0",
            "_model_name": "DescriptionStyleModel",
            "_view_count": null,
            "_view_module": "@jupyter-widgets/base",
            "_view_module_version": "1.2.0",
            "_view_name": "StyleView",
            "description_width": ""
          }
        },
        "d1a8846e11834db283349da5718a957a": {
          "model_module": "@jupyter-widgets/base",
          "model_name": "LayoutModel",
          "model_module_version": "1.2.0",
          "state": {
            "_model_module": "@jupyter-widgets/base",
            "_model_module_version": "1.2.0",
            "_model_name": "LayoutModel",
            "_view_count": null,
            "_view_module": "@jupyter-widgets/base",
            "_view_module_version": "1.2.0",
            "_view_name": "LayoutView",
            "align_content": null,
            "align_items": null,
            "align_self": null,
            "border": null,
            "bottom": null,
            "display": null,
            "flex": null,
            "flex_flow": null,
            "grid_area": null,
            "grid_auto_columns": null,
            "grid_auto_flow": null,
            "grid_auto_rows": null,
            "grid_column": null,
            "grid_gap": null,
            "grid_row": null,
            "grid_template_areas": null,
            "grid_template_columns": null,
            "grid_template_rows": null,
            "height": null,
            "justify_content": null,
            "justify_items": null,
            "left": null,
            "margin": null,
            "max_height": null,
            "max_width": null,
            "min_height": null,
            "min_width": null,
            "object_fit": null,
            "object_position": null,
            "order": null,
            "overflow": null,
            "overflow_x": null,
            "overflow_y": null,
            "padding": null,
            "right": null,
            "top": null,
            "visibility": null,
            "width": null
          }
        },
        "366812ed1ae14985af4b3aeac5bc307b": {
          "model_module": "@jupyter-widgets/controls",
          "model_name": "ProgressStyleModel",
          "model_module_version": "1.5.0",
          "state": {
            "_model_module": "@jupyter-widgets/controls",
            "_model_module_version": "1.5.0",
            "_model_name": "ProgressStyleModel",
            "_view_count": null,
            "_view_module": "@jupyter-widgets/base",
            "_view_module_version": "1.2.0",
            "_view_name": "StyleView",
            "bar_color": null,
            "description_width": ""
          }
        },
        "4ce84dd3f4334d9a8e22031b415e38a3": {
          "model_module": "@jupyter-widgets/base",
          "model_name": "LayoutModel",
          "model_module_version": "1.2.0",
          "state": {
            "_model_module": "@jupyter-widgets/base",
            "_model_module_version": "1.2.0",
            "_model_name": "LayoutModel",
            "_view_count": null,
            "_view_module": "@jupyter-widgets/base",
            "_view_module_version": "1.2.0",
            "_view_name": "LayoutView",
            "align_content": null,
            "align_items": null,
            "align_self": null,
            "border": null,
            "bottom": null,
            "display": null,
            "flex": null,
            "flex_flow": null,
            "grid_area": null,
            "grid_auto_columns": null,
            "grid_auto_flow": null,
            "grid_auto_rows": null,
            "grid_column": null,
            "grid_gap": null,
            "grid_row": null,
            "grid_template_areas": null,
            "grid_template_columns": null,
            "grid_template_rows": null,
            "height": null,
            "justify_content": null,
            "justify_items": null,
            "left": null,
            "margin": null,
            "max_height": null,
            "max_width": null,
            "min_height": null,
            "min_width": null,
            "object_fit": null,
            "object_position": null,
            "order": null,
            "overflow": null,
            "overflow_x": null,
            "overflow_y": null,
            "padding": null,
            "right": null,
            "top": null,
            "visibility": null,
            "width": null
          }
        },
        "d1f6049ac2db4c3dbc63b63148fc4333": {
          "model_module": "@jupyter-widgets/controls",
          "model_name": "DescriptionStyleModel",
          "model_module_version": "1.5.0",
          "state": {
            "_model_module": "@jupyter-widgets/controls",
            "_model_module_version": "1.5.0",
            "_model_name": "DescriptionStyleModel",
            "_view_count": null,
            "_view_module": "@jupyter-widgets/base",
            "_view_module_version": "1.2.0",
            "_view_name": "StyleView",
            "description_width": ""
          }
        },
        "2dba95d1a2cb4b2f95a130e07ffd9490": {
          "model_module": "@jupyter-widgets/controls",
          "model_name": "HBoxModel",
          "model_module_version": "1.5.0",
          "state": {
            "_dom_classes": [],
            "_model_module": "@jupyter-widgets/controls",
            "_model_module_version": "1.5.0",
            "_model_name": "HBoxModel",
            "_view_count": null,
            "_view_module": "@jupyter-widgets/controls",
            "_view_module_version": "1.5.0",
            "_view_name": "HBoxView",
            "box_style": "",
            "children": [
              "IPY_MODEL_be3f70d9d313494191f457ac15c6159d",
              "IPY_MODEL_a5dbd69715fe4fadb69a9d548910a049",
              "IPY_MODEL_0b88599c3bc54e3ba6ce0f8975b2fea2"
            ],
            "layout": "IPY_MODEL_f54647a133094eda833808f459512259"
          }
        },
        "be3f70d9d313494191f457ac15c6159d": {
          "model_module": "@jupyter-widgets/controls",
          "model_name": "HTMLModel",
          "model_module_version": "1.5.0",
          "state": {
            "_dom_classes": [],
            "_model_module": "@jupyter-widgets/controls",
            "_model_module_version": "1.5.0",
            "_model_name": "HTMLModel",
            "_view_count": null,
            "_view_module": "@jupyter-widgets/controls",
            "_view_module_version": "1.5.0",
            "_view_name": "HTMLView",
            "description": "",
            "description_tooltip": null,
            "layout": "IPY_MODEL_efd9515bc9804a26b2a582cdf881adae",
            "placeholder": "​",
            "style": "IPY_MODEL_1a93da7841f148e78a4db30cc9d2cfd4",
            "value": "100%"
          }
        },
        "a5dbd69715fe4fadb69a9d548910a049": {
          "model_module": "@jupyter-widgets/controls",
          "model_name": "FloatProgressModel",
          "model_module_version": "1.5.0",
          "state": {
            "_dom_classes": [],
            "_model_module": "@jupyter-widgets/controls",
            "_model_module_version": "1.5.0",
            "_model_name": "FloatProgressModel",
            "_view_count": null,
            "_view_module": "@jupyter-widgets/controls",
            "_view_module_version": "1.5.0",
            "_view_name": "ProgressView",
            "bar_style": "success",
            "description": "",
            "description_tooltip": null,
            "layout": "IPY_MODEL_1a5403ed3e834e82b442492a8d1e7d3a",
            "max": 36,
            "min": 0,
            "orientation": "horizontal",
            "style": "IPY_MODEL_5b75023d6cb04a0587c64e9dd4519e00",
            "value": 36
          }
        },
        "0b88599c3bc54e3ba6ce0f8975b2fea2": {
          "model_module": "@jupyter-widgets/controls",
          "model_name": "HTMLModel",
          "model_module_version": "1.5.0",
          "state": {
            "_dom_classes": [],
            "_model_module": "@jupyter-widgets/controls",
            "_model_module_version": "1.5.0",
            "_model_name": "HTMLModel",
            "_view_count": null,
            "_view_module": "@jupyter-widgets/controls",
            "_view_module_version": "1.5.0",
            "_view_name": "HTMLView",
            "description": "",
            "description_tooltip": null,
            "layout": "IPY_MODEL_643440dff25f4676b23ce577e316bb98",
            "placeholder": "​",
            "style": "IPY_MODEL_2a677a14da884e55b24e5208082d56d8",
            "value": " 36/36 [01:58&lt;00:00,  1.89s/it]"
          }
        },
        "f54647a133094eda833808f459512259": {
          "model_module": "@jupyter-widgets/base",
          "model_name": "LayoutModel",
          "model_module_version": "1.2.0",
          "state": {
            "_model_module": "@jupyter-widgets/base",
            "_model_module_version": "1.2.0",
            "_model_name": "LayoutModel",
            "_view_count": null,
            "_view_module": "@jupyter-widgets/base",
            "_view_module_version": "1.2.0",
            "_view_name": "LayoutView",
            "align_content": null,
            "align_items": null,
            "align_self": null,
            "border": null,
            "bottom": null,
            "display": null,
            "flex": null,
            "flex_flow": null,
            "grid_area": null,
            "grid_auto_columns": null,
            "grid_auto_flow": null,
            "grid_auto_rows": null,
            "grid_column": null,
            "grid_gap": null,
            "grid_row": null,
            "grid_template_areas": null,
            "grid_template_columns": null,
            "grid_template_rows": null,
            "height": null,
            "justify_content": null,
            "justify_items": null,
            "left": null,
            "margin": null,
            "max_height": null,
            "max_width": null,
            "min_height": null,
            "min_width": null,
            "object_fit": null,
            "object_position": null,
            "order": null,
            "overflow": null,
            "overflow_x": null,
            "overflow_y": null,
            "padding": null,
            "right": null,
            "top": null,
            "visibility": null,
            "width": null
          }
        },
        "efd9515bc9804a26b2a582cdf881adae": {
          "model_module": "@jupyter-widgets/base",
          "model_name": "LayoutModel",
          "model_module_version": "1.2.0",
          "state": {
            "_model_module": "@jupyter-widgets/base",
            "_model_module_version": "1.2.0",
            "_model_name": "LayoutModel",
            "_view_count": null,
            "_view_module": "@jupyter-widgets/base",
            "_view_module_version": "1.2.0",
            "_view_name": "LayoutView",
            "align_content": null,
            "align_items": null,
            "align_self": null,
            "border": null,
            "bottom": null,
            "display": null,
            "flex": null,
            "flex_flow": null,
            "grid_area": null,
            "grid_auto_columns": null,
            "grid_auto_flow": null,
            "grid_auto_rows": null,
            "grid_column": null,
            "grid_gap": null,
            "grid_row": null,
            "grid_template_areas": null,
            "grid_template_columns": null,
            "grid_template_rows": null,
            "height": null,
            "justify_content": null,
            "justify_items": null,
            "left": null,
            "margin": null,
            "max_height": null,
            "max_width": null,
            "min_height": null,
            "min_width": null,
            "object_fit": null,
            "object_position": null,
            "order": null,
            "overflow": null,
            "overflow_x": null,
            "overflow_y": null,
            "padding": null,
            "right": null,
            "top": null,
            "visibility": null,
            "width": null
          }
        },
        "1a93da7841f148e78a4db30cc9d2cfd4": {
          "model_module": "@jupyter-widgets/controls",
          "model_name": "DescriptionStyleModel",
          "model_module_version": "1.5.0",
          "state": {
            "_model_module": "@jupyter-widgets/controls",
            "_model_module_version": "1.5.0",
            "_model_name": "DescriptionStyleModel",
            "_view_count": null,
            "_view_module": "@jupyter-widgets/base",
            "_view_module_version": "1.2.0",
            "_view_name": "StyleView",
            "description_width": ""
          }
        },
        "1a5403ed3e834e82b442492a8d1e7d3a": {
          "model_module": "@jupyter-widgets/base",
          "model_name": "LayoutModel",
          "model_module_version": "1.2.0",
          "state": {
            "_model_module": "@jupyter-widgets/base",
            "_model_module_version": "1.2.0",
            "_model_name": "LayoutModel",
            "_view_count": null,
            "_view_module": "@jupyter-widgets/base",
            "_view_module_version": "1.2.0",
            "_view_name": "LayoutView",
            "align_content": null,
            "align_items": null,
            "align_self": null,
            "border": null,
            "bottom": null,
            "display": null,
            "flex": null,
            "flex_flow": null,
            "grid_area": null,
            "grid_auto_columns": null,
            "grid_auto_flow": null,
            "grid_auto_rows": null,
            "grid_column": null,
            "grid_gap": null,
            "grid_row": null,
            "grid_template_areas": null,
            "grid_template_columns": null,
            "grid_template_rows": null,
            "height": null,
            "justify_content": null,
            "justify_items": null,
            "left": null,
            "margin": null,
            "max_height": null,
            "max_width": null,
            "min_height": null,
            "min_width": null,
            "object_fit": null,
            "object_position": null,
            "order": null,
            "overflow": null,
            "overflow_x": null,
            "overflow_y": null,
            "padding": null,
            "right": null,
            "top": null,
            "visibility": null,
            "width": null
          }
        },
        "5b75023d6cb04a0587c64e9dd4519e00": {
          "model_module": "@jupyter-widgets/controls",
          "model_name": "ProgressStyleModel",
          "model_module_version": "1.5.0",
          "state": {
            "_model_module": "@jupyter-widgets/controls",
            "_model_module_version": "1.5.0",
            "_model_name": "ProgressStyleModel",
            "_view_count": null,
            "_view_module": "@jupyter-widgets/base",
            "_view_module_version": "1.2.0",
            "_view_name": "StyleView",
            "bar_color": null,
            "description_width": ""
          }
        },
        "643440dff25f4676b23ce577e316bb98": {
          "model_module": "@jupyter-widgets/base",
          "model_name": "LayoutModel",
          "model_module_version": "1.2.0",
          "state": {
            "_model_module": "@jupyter-widgets/base",
            "_model_module_version": "1.2.0",
            "_model_name": "LayoutModel",
            "_view_count": null,
            "_view_module": "@jupyter-widgets/base",
            "_view_module_version": "1.2.0",
            "_view_name": "LayoutView",
            "align_content": null,
            "align_items": null,
            "align_self": null,
            "border": null,
            "bottom": null,
            "display": null,
            "flex": null,
            "flex_flow": null,
            "grid_area": null,
            "grid_auto_columns": null,
            "grid_auto_flow": null,
            "grid_auto_rows": null,
            "grid_column": null,
            "grid_gap": null,
            "grid_row": null,
            "grid_template_areas": null,
            "grid_template_columns": null,
            "grid_template_rows": null,
            "height": null,
            "justify_content": null,
            "justify_items": null,
            "left": null,
            "margin": null,
            "max_height": null,
            "max_width": null,
            "min_height": null,
            "min_width": null,
            "object_fit": null,
            "object_position": null,
            "order": null,
            "overflow": null,
            "overflow_x": null,
            "overflow_y": null,
            "padding": null,
            "right": null,
            "top": null,
            "visibility": null,
            "width": null
          }
        },
        "2a677a14da884e55b24e5208082d56d8": {
          "model_module": "@jupyter-widgets/controls",
          "model_name": "DescriptionStyleModel",
          "model_module_version": "1.5.0",
          "state": {
            "_model_module": "@jupyter-widgets/controls",
            "_model_module_version": "1.5.0",
            "_model_name": "DescriptionStyleModel",
            "_view_count": null,
            "_view_module": "@jupyter-widgets/base",
            "_view_module_version": "1.2.0",
            "_view_name": "StyleView",
            "description_width": ""
          }
        },
        "8a8f4f809673439c88b4e1f6f71117f5": {
          "model_module": "@jupyter-widgets/controls",
          "model_name": "HBoxModel",
          "model_module_version": "1.5.0",
          "state": {
            "_dom_classes": [],
            "_model_module": "@jupyter-widgets/controls",
            "_model_module_version": "1.5.0",
            "_model_name": "HBoxModel",
            "_view_count": null,
            "_view_module": "@jupyter-widgets/controls",
            "_view_module_version": "1.5.0",
            "_view_name": "HBoxView",
            "box_style": "",
            "children": [
              "IPY_MODEL_67bb50b5797440149155fd5faf62d9f9",
              "IPY_MODEL_73203f1f46144621934be134b5cf8896",
              "IPY_MODEL_51c32735566a4bfcab4ea3d95f91c068"
            ],
            "layout": "IPY_MODEL_d33adfbae3864fb6a5ab55139e7fc9ba"
          }
        },
        "67bb50b5797440149155fd5faf62d9f9": {
          "model_module": "@jupyter-widgets/controls",
          "model_name": "HTMLModel",
          "model_module_version": "1.5.0",
          "state": {
            "_dom_classes": [],
            "_model_module": "@jupyter-widgets/controls",
            "_model_module_version": "1.5.0",
            "_model_name": "HTMLModel",
            "_view_count": null,
            "_view_module": "@jupyter-widgets/controls",
            "_view_module_version": "1.5.0",
            "_view_name": "HTMLView",
            "description": "",
            "description_tooltip": null,
            "layout": "IPY_MODEL_9c2e542d47664110937071ea63c36e9b",
            "placeholder": "​",
            "style": "IPY_MODEL_135c520fb6384529b32966044ccb1a98",
            "value": "100%"
          }
        },
        "73203f1f46144621934be134b5cf8896": {
          "model_module": "@jupyter-widgets/controls",
          "model_name": "FloatProgressModel",
          "model_module_version": "1.5.0",
          "state": {
            "_dom_classes": [],
            "_model_module": "@jupyter-widgets/controls",
            "_model_module_version": "1.5.0",
            "_model_name": "FloatProgressModel",
            "_view_count": null,
            "_view_module": "@jupyter-widgets/controls",
            "_view_module_version": "1.5.0",
            "_view_name": "ProgressView",
            "bar_style": "success",
            "description": "",
            "description_tooltip": null,
            "layout": "IPY_MODEL_10da42f524bf45dca7fb069284c549bc",
            "max": 36,
            "min": 0,
            "orientation": "horizontal",
            "style": "IPY_MODEL_10106b178e4c41f5bec8cf725e332f0c",
            "value": 36
          }
        },
        "51c32735566a4bfcab4ea3d95f91c068": {
          "model_module": "@jupyter-widgets/controls",
          "model_name": "HTMLModel",
          "model_module_version": "1.5.0",
          "state": {
            "_dom_classes": [],
            "_model_module": "@jupyter-widgets/controls",
            "_model_module_version": "1.5.0",
            "_model_name": "HTMLModel",
            "_view_count": null,
            "_view_module": "@jupyter-widgets/controls",
            "_view_module_version": "1.5.0",
            "_view_name": "HTMLView",
            "description": "",
            "description_tooltip": null,
            "layout": "IPY_MODEL_e1f3488a230c442bb7605760195d27c9",
            "placeholder": "​",
            "style": "IPY_MODEL_44b31c3f686240fab8760c9926763619",
            "value": " 36/36 [01:59&lt;00:00,  1.92s/it]"
          }
        },
        "d33adfbae3864fb6a5ab55139e7fc9ba": {
          "model_module": "@jupyter-widgets/base",
          "model_name": "LayoutModel",
          "model_module_version": "1.2.0",
          "state": {
            "_model_module": "@jupyter-widgets/base",
            "_model_module_version": "1.2.0",
            "_model_name": "LayoutModel",
            "_view_count": null,
            "_view_module": "@jupyter-widgets/base",
            "_view_module_version": "1.2.0",
            "_view_name": "LayoutView",
            "align_content": null,
            "align_items": null,
            "align_self": null,
            "border": null,
            "bottom": null,
            "display": null,
            "flex": null,
            "flex_flow": null,
            "grid_area": null,
            "grid_auto_columns": null,
            "grid_auto_flow": null,
            "grid_auto_rows": null,
            "grid_column": null,
            "grid_gap": null,
            "grid_row": null,
            "grid_template_areas": null,
            "grid_template_columns": null,
            "grid_template_rows": null,
            "height": null,
            "justify_content": null,
            "justify_items": null,
            "left": null,
            "margin": null,
            "max_height": null,
            "max_width": null,
            "min_height": null,
            "min_width": null,
            "object_fit": null,
            "object_position": null,
            "order": null,
            "overflow": null,
            "overflow_x": null,
            "overflow_y": null,
            "padding": null,
            "right": null,
            "top": null,
            "visibility": null,
            "width": null
          }
        },
        "9c2e542d47664110937071ea63c36e9b": {
          "model_module": "@jupyter-widgets/base",
          "model_name": "LayoutModel",
          "model_module_version": "1.2.0",
          "state": {
            "_model_module": "@jupyter-widgets/base",
            "_model_module_version": "1.2.0",
            "_model_name": "LayoutModel",
            "_view_count": null,
            "_view_module": "@jupyter-widgets/base",
            "_view_module_version": "1.2.0",
            "_view_name": "LayoutView",
            "align_content": null,
            "align_items": null,
            "align_self": null,
            "border": null,
            "bottom": null,
            "display": null,
            "flex": null,
            "flex_flow": null,
            "grid_area": null,
            "grid_auto_columns": null,
            "grid_auto_flow": null,
            "grid_auto_rows": null,
            "grid_column": null,
            "grid_gap": null,
            "grid_row": null,
            "grid_template_areas": null,
            "grid_template_columns": null,
            "grid_template_rows": null,
            "height": null,
            "justify_content": null,
            "justify_items": null,
            "left": null,
            "margin": null,
            "max_height": null,
            "max_width": null,
            "min_height": null,
            "min_width": null,
            "object_fit": null,
            "object_position": null,
            "order": null,
            "overflow": null,
            "overflow_x": null,
            "overflow_y": null,
            "padding": null,
            "right": null,
            "top": null,
            "visibility": null,
            "width": null
          }
        },
        "135c520fb6384529b32966044ccb1a98": {
          "model_module": "@jupyter-widgets/controls",
          "model_name": "DescriptionStyleModel",
          "model_module_version": "1.5.0",
          "state": {
            "_model_module": "@jupyter-widgets/controls",
            "_model_module_version": "1.5.0",
            "_model_name": "DescriptionStyleModel",
            "_view_count": null,
            "_view_module": "@jupyter-widgets/base",
            "_view_module_version": "1.2.0",
            "_view_name": "StyleView",
            "description_width": ""
          }
        },
        "10da42f524bf45dca7fb069284c549bc": {
          "model_module": "@jupyter-widgets/base",
          "model_name": "LayoutModel",
          "model_module_version": "1.2.0",
          "state": {
            "_model_module": "@jupyter-widgets/base",
            "_model_module_version": "1.2.0",
            "_model_name": "LayoutModel",
            "_view_count": null,
            "_view_module": "@jupyter-widgets/base",
            "_view_module_version": "1.2.0",
            "_view_name": "LayoutView",
            "align_content": null,
            "align_items": null,
            "align_self": null,
            "border": null,
            "bottom": null,
            "display": null,
            "flex": null,
            "flex_flow": null,
            "grid_area": null,
            "grid_auto_columns": null,
            "grid_auto_flow": null,
            "grid_auto_rows": null,
            "grid_column": null,
            "grid_gap": null,
            "grid_row": null,
            "grid_template_areas": null,
            "grid_template_columns": null,
            "grid_template_rows": null,
            "height": null,
            "justify_content": null,
            "justify_items": null,
            "left": null,
            "margin": null,
            "max_height": null,
            "max_width": null,
            "min_height": null,
            "min_width": null,
            "object_fit": null,
            "object_position": null,
            "order": null,
            "overflow": null,
            "overflow_x": null,
            "overflow_y": null,
            "padding": null,
            "right": null,
            "top": null,
            "visibility": null,
            "width": null
          }
        },
        "10106b178e4c41f5bec8cf725e332f0c": {
          "model_module": "@jupyter-widgets/controls",
          "model_name": "ProgressStyleModel",
          "model_module_version": "1.5.0",
          "state": {
            "_model_module": "@jupyter-widgets/controls",
            "_model_module_version": "1.5.0",
            "_model_name": "ProgressStyleModel",
            "_view_count": null,
            "_view_module": "@jupyter-widgets/base",
            "_view_module_version": "1.2.0",
            "_view_name": "StyleView",
            "bar_color": null,
            "description_width": ""
          }
        },
        "e1f3488a230c442bb7605760195d27c9": {
          "model_module": "@jupyter-widgets/base",
          "model_name": "LayoutModel",
          "model_module_version": "1.2.0",
          "state": {
            "_model_module": "@jupyter-widgets/base",
            "_model_module_version": "1.2.0",
            "_model_name": "LayoutModel",
            "_view_count": null,
            "_view_module": "@jupyter-widgets/base",
            "_view_module_version": "1.2.0",
            "_view_name": "LayoutView",
            "align_content": null,
            "align_items": null,
            "align_self": null,
            "border": null,
            "bottom": null,
            "display": null,
            "flex": null,
            "flex_flow": null,
            "grid_area": null,
            "grid_auto_columns": null,
            "grid_auto_flow": null,
            "grid_auto_rows": null,
            "grid_column": null,
            "grid_gap": null,
            "grid_row": null,
            "grid_template_areas": null,
            "grid_template_columns": null,
            "grid_template_rows": null,
            "height": null,
            "justify_content": null,
            "justify_items": null,
            "left": null,
            "margin": null,
            "max_height": null,
            "max_width": null,
            "min_height": null,
            "min_width": null,
            "object_fit": null,
            "object_position": null,
            "order": null,
            "overflow": null,
            "overflow_x": null,
            "overflow_y": null,
            "padding": null,
            "right": null,
            "top": null,
            "visibility": null,
            "width": null
          }
        },
        "44b31c3f686240fab8760c9926763619": {
          "model_module": "@jupyter-widgets/controls",
          "model_name": "DescriptionStyleModel",
          "model_module_version": "1.5.0",
          "state": {
            "_model_module": "@jupyter-widgets/controls",
            "_model_module_version": "1.5.0",
            "_model_name": "DescriptionStyleModel",
            "_view_count": null,
            "_view_module": "@jupyter-widgets/base",
            "_view_module_version": "1.2.0",
            "_view_name": "StyleView",
            "description_width": ""
          }
        },
        "76bfad675d0d463cad4eca819ccdd72d": {
          "model_module": "@jupyter-widgets/controls",
          "model_name": "HBoxModel",
          "model_module_version": "1.5.0",
          "state": {
            "_dom_classes": [],
            "_model_module": "@jupyter-widgets/controls",
            "_model_module_version": "1.5.0",
            "_model_name": "HBoxModel",
            "_view_count": null,
            "_view_module": "@jupyter-widgets/controls",
            "_view_module_version": "1.5.0",
            "_view_name": "HBoxView",
            "box_style": "",
            "children": [
              "IPY_MODEL_d5ea0377e9564ea58846079b2c208296",
              "IPY_MODEL_fa67f5728d164e62aa631a6f9e00f0a6",
              "IPY_MODEL_fb39e43d7c1848e99bba313eff455476"
            ],
            "layout": "IPY_MODEL_bd924118b6044c6dbc81a8003833c588"
          }
        },
        "d5ea0377e9564ea58846079b2c208296": {
          "model_module": "@jupyter-widgets/controls",
          "model_name": "HTMLModel",
          "model_module_version": "1.5.0",
          "state": {
            "_dom_classes": [],
            "_model_module": "@jupyter-widgets/controls",
            "_model_module_version": "1.5.0",
            "_model_name": "HTMLModel",
            "_view_count": null,
            "_view_module": "@jupyter-widgets/controls",
            "_view_module_version": "1.5.0",
            "_view_name": "HTMLView",
            "description": "",
            "description_tooltip": null,
            "layout": "IPY_MODEL_0243d9e78ff5473eb23893eef2a80a69",
            "placeholder": "​",
            "style": "IPY_MODEL_b9a7e53207934a9bba486c44770bb8f5",
            "value": "100%"
          }
        },
        "fa67f5728d164e62aa631a6f9e00f0a6": {
          "model_module": "@jupyter-widgets/controls",
          "model_name": "FloatProgressModel",
          "model_module_version": "1.5.0",
          "state": {
            "_dom_classes": [],
            "_model_module": "@jupyter-widgets/controls",
            "_model_module_version": "1.5.0",
            "_model_name": "FloatProgressModel",
            "_view_count": null,
            "_view_module": "@jupyter-widgets/controls",
            "_view_module_version": "1.5.0",
            "_view_name": "ProgressView",
            "bar_style": "success",
            "description": "",
            "description_tooltip": null,
            "layout": "IPY_MODEL_582a15da3fea4544a315a70192349bce",
            "max": 36,
            "min": 0,
            "orientation": "horizontal",
            "style": "IPY_MODEL_e135cb5ca18e4a4089efef55bdab43de",
            "value": 36
          }
        },
        "fb39e43d7c1848e99bba313eff455476": {
          "model_module": "@jupyter-widgets/controls",
          "model_name": "HTMLModel",
          "model_module_version": "1.5.0",
          "state": {
            "_dom_classes": [],
            "_model_module": "@jupyter-widgets/controls",
            "_model_module_version": "1.5.0",
            "_model_name": "HTMLModel",
            "_view_count": null,
            "_view_module": "@jupyter-widgets/controls",
            "_view_module_version": "1.5.0",
            "_view_name": "HTMLView",
            "description": "",
            "description_tooltip": null,
            "layout": "IPY_MODEL_62f966b7d5db43b6ab35a746738ae5a3",
            "placeholder": "​",
            "style": "IPY_MODEL_e7823011a2bd49edb0a9bcf2c0a3333c",
            "value": " 36/36 [01:59&lt;00:00,  1.90s/it]"
          }
        },
        "bd924118b6044c6dbc81a8003833c588": {
          "model_module": "@jupyter-widgets/base",
          "model_name": "LayoutModel",
          "model_module_version": "1.2.0",
          "state": {
            "_model_module": "@jupyter-widgets/base",
            "_model_module_version": "1.2.0",
            "_model_name": "LayoutModel",
            "_view_count": null,
            "_view_module": "@jupyter-widgets/base",
            "_view_module_version": "1.2.0",
            "_view_name": "LayoutView",
            "align_content": null,
            "align_items": null,
            "align_self": null,
            "border": null,
            "bottom": null,
            "display": null,
            "flex": null,
            "flex_flow": null,
            "grid_area": null,
            "grid_auto_columns": null,
            "grid_auto_flow": null,
            "grid_auto_rows": null,
            "grid_column": null,
            "grid_gap": null,
            "grid_row": null,
            "grid_template_areas": null,
            "grid_template_columns": null,
            "grid_template_rows": null,
            "height": null,
            "justify_content": null,
            "justify_items": null,
            "left": null,
            "margin": null,
            "max_height": null,
            "max_width": null,
            "min_height": null,
            "min_width": null,
            "object_fit": null,
            "object_position": null,
            "order": null,
            "overflow": null,
            "overflow_x": null,
            "overflow_y": null,
            "padding": null,
            "right": null,
            "top": null,
            "visibility": null,
            "width": null
          }
        },
        "0243d9e78ff5473eb23893eef2a80a69": {
          "model_module": "@jupyter-widgets/base",
          "model_name": "LayoutModel",
          "model_module_version": "1.2.0",
          "state": {
            "_model_module": "@jupyter-widgets/base",
            "_model_module_version": "1.2.0",
            "_model_name": "LayoutModel",
            "_view_count": null,
            "_view_module": "@jupyter-widgets/base",
            "_view_module_version": "1.2.0",
            "_view_name": "LayoutView",
            "align_content": null,
            "align_items": null,
            "align_self": null,
            "border": null,
            "bottom": null,
            "display": null,
            "flex": null,
            "flex_flow": null,
            "grid_area": null,
            "grid_auto_columns": null,
            "grid_auto_flow": null,
            "grid_auto_rows": null,
            "grid_column": null,
            "grid_gap": null,
            "grid_row": null,
            "grid_template_areas": null,
            "grid_template_columns": null,
            "grid_template_rows": null,
            "height": null,
            "justify_content": null,
            "justify_items": null,
            "left": null,
            "margin": null,
            "max_height": null,
            "max_width": null,
            "min_height": null,
            "min_width": null,
            "object_fit": null,
            "object_position": null,
            "order": null,
            "overflow": null,
            "overflow_x": null,
            "overflow_y": null,
            "padding": null,
            "right": null,
            "top": null,
            "visibility": null,
            "width": null
          }
        },
        "b9a7e53207934a9bba486c44770bb8f5": {
          "model_module": "@jupyter-widgets/controls",
          "model_name": "DescriptionStyleModel",
          "model_module_version": "1.5.0",
          "state": {
            "_model_module": "@jupyter-widgets/controls",
            "_model_module_version": "1.5.0",
            "_model_name": "DescriptionStyleModel",
            "_view_count": null,
            "_view_module": "@jupyter-widgets/base",
            "_view_module_version": "1.2.0",
            "_view_name": "StyleView",
            "description_width": ""
          }
        },
        "582a15da3fea4544a315a70192349bce": {
          "model_module": "@jupyter-widgets/base",
          "model_name": "LayoutModel",
          "model_module_version": "1.2.0",
          "state": {
            "_model_module": "@jupyter-widgets/base",
            "_model_module_version": "1.2.0",
            "_model_name": "LayoutModel",
            "_view_count": null,
            "_view_module": "@jupyter-widgets/base",
            "_view_module_version": "1.2.0",
            "_view_name": "LayoutView",
            "align_content": null,
            "align_items": null,
            "align_self": null,
            "border": null,
            "bottom": null,
            "display": null,
            "flex": null,
            "flex_flow": null,
            "grid_area": null,
            "grid_auto_columns": null,
            "grid_auto_flow": null,
            "grid_auto_rows": null,
            "grid_column": null,
            "grid_gap": null,
            "grid_row": null,
            "grid_template_areas": null,
            "grid_template_columns": null,
            "grid_template_rows": null,
            "height": null,
            "justify_content": null,
            "justify_items": null,
            "left": null,
            "margin": null,
            "max_height": null,
            "max_width": null,
            "min_height": null,
            "min_width": null,
            "object_fit": null,
            "object_position": null,
            "order": null,
            "overflow": null,
            "overflow_x": null,
            "overflow_y": null,
            "padding": null,
            "right": null,
            "top": null,
            "visibility": null,
            "width": null
          }
        },
        "e135cb5ca18e4a4089efef55bdab43de": {
          "model_module": "@jupyter-widgets/controls",
          "model_name": "ProgressStyleModel",
          "model_module_version": "1.5.0",
          "state": {
            "_model_module": "@jupyter-widgets/controls",
            "_model_module_version": "1.5.0",
            "_model_name": "ProgressStyleModel",
            "_view_count": null,
            "_view_module": "@jupyter-widgets/base",
            "_view_module_version": "1.2.0",
            "_view_name": "StyleView",
            "bar_color": null,
            "description_width": ""
          }
        },
        "62f966b7d5db43b6ab35a746738ae5a3": {
          "model_module": "@jupyter-widgets/base",
          "model_name": "LayoutModel",
          "model_module_version": "1.2.0",
          "state": {
            "_model_module": "@jupyter-widgets/base",
            "_model_module_version": "1.2.0",
            "_model_name": "LayoutModel",
            "_view_count": null,
            "_view_module": "@jupyter-widgets/base",
            "_view_module_version": "1.2.0",
            "_view_name": "LayoutView",
            "align_content": null,
            "align_items": null,
            "align_self": null,
            "border": null,
            "bottom": null,
            "display": null,
            "flex": null,
            "flex_flow": null,
            "grid_area": null,
            "grid_auto_columns": null,
            "grid_auto_flow": null,
            "grid_auto_rows": null,
            "grid_column": null,
            "grid_gap": null,
            "grid_row": null,
            "grid_template_areas": null,
            "grid_template_columns": null,
            "grid_template_rows": null,
            "height": null,
            "justify_content": null,
            "justify_items": null,
            "left": null,
            "margin": null,
            "max_height": null,
            "max_width": null,
            "min_height": null,
            "min_width": null,
            "object_fit": null,
            "object_position": null,
            "order": null,
            "overflow": null,
            "overflow_x": null,
            "overflow_y": null,
            "padding": null,
            "right": null,
            "top": null,
            "visibility": null,
            "width": null
          }
        },
        "e7823011a2bd49edb0a9bcf2c0a3333c": {
          "model_module": "@jupyter-widgets/controls",
          "model_name": "DescriptionStyleModel",
          "model_module_version": "1.5.0",
          "state": {
            "_model_module": "@jupyter-widgets/controls",
            "_model_module_version": "1.5.0",
            "_model_name": "DescriptionStyleModel",
            "_view_count": null,
            "_view_module": "@jupyter-widgets/base",
            "_view_module_version": "1.2.0",
            "_view_name": "StyleView",
            "description_width": ""
          }
        },
        "c8c9c2ca26da4c478efb862ca9ccd168": {
          "model_module": "@jupyter-widgets/controls",
          "model_name": "HBoxModel",
          "model_module_version": "1.5.0",
          "state": {
            "_dom_classes": [],
            "_model_module": "@jupyter-widgets/controls",
            "_model_module_version": "1.5.0",
            "_model_name": "HBoxModel",
            "_view_count": null,
            "_view_module": "@jupyter-widgets/controls",
            "_view_module_version": "1.5.0",
            "_view_name": "HBoxView",
            "box_style": "",
            "children": [
              "IPY_MODEL_d7ba74b3e04a45309b98b011abf19921",
              "IPY_MODEL_a9170773a67b4013bc3fe5a91da56e11",
              "IPY_MODEL_923a8c2f6667456a8e34baf401d1828a"
            ],
            "layout": "IPY_MODEL_7640863bb88a4edabaddbec78b9e6f2d"
          }
        },
        "d7ba74b3e04a45309b98b011abf19921": {
          "model_module": "@jupyter-widgets/controls",
          "model_name": "HTMLModel",
          "model_module_version": "1.5.0",
          "state": {
            "_dom_classes": [],
            "_model_module": "@jupyter-widgets/controls",
            "_model_module_version": "1.5.0",
            "_model_name": "HTMLModel",
            "_view_count": null,
            "_view_module": "@jupyter-widgets/controls",
            "_view_module_version": "1.5.0",
            "_view_name": "HTMLView",
            "description": "",
            "description_tooltip": null,
            "layout": "IPY_MODEL_190e0fe4b41444978320d765dd12eb0a",
            "placeholder": "​",
            "style": "IPY_MODEL_56a0f533c73b415b99b79b933052e142",
            "value": "100%"
          }
        },
        "a9170773a67b4013bc3fe5a91da56e11": {
          "model_module": "@jupyter-widgets/controls",
          "model_name": "FloatProgressModel",
          "model_module_version": "1.5.0",
          "state": {
            "_dom_classes": [],
            "_model_module": "@jupyter-widgets/controls",
            "_model_module_version": "1.5.0",
            "_model_name": "FloatProgressModel",
            "_view_count": null,
            "_view_module": "@jupyter-widgets/controls",
            "_view_module_version": "1.5.0",
            "_view_name": "ProgressView",
            "bar_style": "success",
            "description": "",
            "description_tooltip": null,
            "layout": "IPY_MODEL_d4425472fb1f44a8a063f3ba968c9f11",
            "max": 36,
            "min": 0,
            "orientation": "horizontal",
            "style": "IPY_MODEL_380f6d6f0ab347879d252cf84c2e97aa",
            "value": 36
          }
        },
        "923a8c2f6667456a8e34baf401d1828a": {
          "model_module": "@jupyter-widgets/controls",
          "model_name": "HTMLModel",
          "model_module_version": "1.5.0",
          "state": {
            "_dom_classes": [],
            "_model_module": "@jupyter-widgets/controls",
            "_model_module_version": "1.5.0",
            "_model_name": "HTMLModel",
            "_view_count": null,
            "_view_module": "@jupyter-widgets/controls",
            "_view_module_version": "1.5.0",
            "_view_name": "HTMLView",
            "description": "",
            "description_tooltip": null,
            "layout": "IPY_MODEL_60a73478e5fb45129adad3c79342ce83",
            "placeholder": "​",
            "style": "IPY_MODEL_d4b22164bc534b12a7063c0375185b88",
            "value": " 36/36 [02:00&lt;00:00,  1.94s/it]"
          }
        },
        "7640863bb88a4edabaddbec78b9e6f2d": {
          "model_module": "@jupyter-widgets/base",
          "model_name": "LayoutModel",
          "model_module_version": "1.2.0",
          "state": {
            "_model_module": "@jupyter-widgets/base",
            "_model_module_version": "1.2.0",
            "_model_name": "LayoutModel",
            "_view_count": null,
            "_view_module": "@jupyter-widgets/base",
            "_view_module_version": "1.2.0",
            "_view_name": "LayoutView",
            "align_content": null,
            "align_items": null,
            "align_self": null,
            "border": null,
            "bottom": null,
            "display": null,
            "flex": null,
            "flex_flow": null,
            "grid_area": null,
            "grid_auto_columns": null,
            "grid_auto_flow": null,
            "grid_auto_rows": null,
            "grid_column": null,
            "grid_gap": null,
            "grid_row": null,
            "grid_template_areas": null,
            "grid_template_columns": null,
            "grid_template_rows": null,
            "height": null,
            "justify_content": null,
            "justify_items": null,
            "left": null,
            "margin": null,
            "max_height": null,
            "max_width": null,
            "min_height": null,
            "min_width": null,
            "object_fit": null,
            "object_position": null,
            "order": null,
            "overflow": null,
            "overflow_x": null,
            "overflow_y": null,
            "padding": null,
            "right": null,
            "top": null,
            "visibility": null,
            "width": null
          }
        },
        "190e0fe4b41444978320d765dd12eb0a": {
          "model_module": "@jupyter-widgets/base",
          "model_name": "LayoutModel",
          "model_module_version": "1.2.0",
          "state": {
            "_model_module": "@jupyter-widgets/base",
            "_model_module_version": "1.2.0",
            "_model_name": "LayoutModel",
            "_view_count": null,
            "_view_module": "@jupyter-widgets/base",
            "_view_module_version": "1.2.0",
            "_view_name": "LayoutView",
            "align_content": null,
            "align_items": null,
            "align_self": null,
            "border": null,
            "bottom": null,
            "display": null,
            "flex": null,
            "flex_flow": null,
            "grid_area": null,
            "grid_auto_columns": null,
            "grid_auto_flow": null,
            "grid_auto_rows": null,
            "grid_column": null,
            "grid_gap": null,
            "grid_row": null,
            "grid_template_areas": null,
            "grid_template_columns": null,
            "grid_template_rows": null,
            "height": null,
            "justify_content": null,
            "justify_items": null,
            "left": null,
            "margin": null,
            "max_height": null,
            "max_width": null,
            "min_height": null,
            "min_width": null,
            "object_fit": null,
            "object_position": null,
            "order": null,
            "overflow": null,
            "overflow_x": null,
            "overflow_y": null,
            "padding": null,
            "right": null,
            "top": null,
            "visibility": null,
            "width": null
          }
        },
        "56a0f533c73b415b99b79b933052e142": {
          "model_module": "@jupyter-widgets/controls",
          "model_name": "DescriptionStyleModel",
          "model_module_version": "1.5.0",
          "state": {
            "_model_module": "@jupyter-widgets/controls",
            "_model_module_version": "1.5.0",
            "_model_name": "DescriptionStyleModel",
            "_view_count": null,
            "_view_module": "@jupyter-widgets/base",
            "_view_module_version": "1.2.0",
            "_view_name": "StyleView",
            "description_width": ""
          }
        },
        "d4425472fb1f44a8a063f3ba968c9f11": {
          "model_module": "@jupyter-widgets/base",
          "model_name": "LayoutModel",
          "model_module_version": "1.2.0",
          "state": {
            "_model_module": "@jupyter-widgets/base",
            "_model_module_version": "1.2.0",
            "_model_name": "LayoutModel",
            "_view_count": null,
            "_view_module": "@jupyter-widgets/base",
            "_view_module_version": "1.2.0",
            "_view_name": "LayoutView",
            "align_content": null,
            "align_items": null,
            "align_self": null,
            "border": null,
            "bottom": null,
            "display": null,
            "flex": null,
            "flex_flow": null,
            "grid_area": null,
            "grid_auto_columns": null,
            "grid_auto_flow": null,
            "grid_auto_rows": null,
            "grid_column": null,
            "grid_gap": null,
            "grid_row": null,
            "grid_template_areas": null,
            "grid_template_columns": null,
            "grid_template_rows": null,
            "height": null,
            "justify_content": null,
            "justify_items": null,
            "left": null,
            "margin": null,
            "max_height": null,
            "max_width": null,
            "min_height": null,
            "min_width": null,
            "object_fit": null,
            "object_position": null,
            "order": null,
            "overflow": null,
            "overflow_x": null,
            "overflow_y": null,
            "padding": null,
            "right": null,
            "top": null,
            "visibility": null,
            "width": null
          }
        },
        "380f6d6f0ab347879d252cf84c2e97aa": {
          "model_module": "@jupyter-widgets/controls",
          "model_name": "ProgressStyleModel",
          "model_module_version": "1.5.0",
          "state": {
            "_model_module": "@jupyter-widgets/controls",
            "_model_module_version": "1.5.0",
            "_model_name": "ProgressStyleModel",
            "_view_count": null,
            "_view_module": "@jupyter-widgets/base",
            "_view_module_version": "1.2.0",
            "_view_name": "StyleView",
            "bar_color": null,
            "description_width": ""
          }
        },
        "60a73478e5fb45129adad3c79342ce83": {
          "model_module": "@jupyter-widgets/base",
          "model_name": "LayoutModel",
          "model_module_version": "1.2.0",
          "state": {
            "_model_module": "@jupyter-widgets/base",
            "_model_module_version": "1.2.0",
            "_model_name": "LayoutModel",
            "_view_count": null,
            "_view_module": "@jupyter-widgets/base",
            "_view_module_version": "1.2.0",
            "_view_name": "LayoutView",
            "align_content": null,
            "align_items": null,
            "align_self": null,
            "border": null,
            "bottom": null,
            "display": null,
            "flex": null,
            "flex_flow": null,
            "grid_area": null,
            "grid_auto_columns": null,
            "grid_auto_flow": null,
            "grid_auto_rows": null,
            "grid_column": null,
            "grid_gap": null,
            "grid_row": null,
            "grid_template_areas": null,
            "grid_template_columns": null,
            "grid_template_rows": null,
            "height": null,
            "justify_content": null,
            "justify_items": null,
            "left": null,
            "margin": null,
            "max_height": null,
            "max_width": null,
            "min_height": null,
            "min_width": null,
            "object_fit": null,
            "object_position": null,
            "order": null,
            "overflow": null,
            "overflow_x": null,
            "overflow_y": null,
            "padding": null,
            "right": null,
            "top": null,
            "visibility": null,
            "width": null
          }
        },
        "d4b22164bc534b12a7063c0375185b88": {
          "model_module": "@jupyter-widgets/controls",
          "model_name": "DescriptionStyleModel",
          "model_module_version": "1.5.0",
          "state": {
            "_model_module": "@jupyter-widgets/controls",
            "_model_module_version": "1.5.0",
            "_model_name": "DescriptionStyleModel",
            "_view_count": null,
            "_view_module": "@jupyter-widgets/base",
            "_view_module_version": "1.2.0",
            "_view_name": "StyleView",
            "description_width": ""
          }
        }
      }
    }
  },
  "nbformat": 4,
  "nbformat_minor": 0
}